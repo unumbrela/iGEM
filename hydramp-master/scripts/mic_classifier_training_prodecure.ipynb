{
 "cells": [
  {
   "cell_type": "code",
   "execution_count": 1,
   "metadata": {},
   "outputs": [
    {
     "name": "stderr",
     "output_type": "stream",
     "text": [
      "Using TensorFlow backend.\n"
     ]
    }
   ],
   "source": [
    "from sklearn import model_selection, metrics, utils\n",
    "import tensorflow as tf\n",
    "import keras.callbacks as callbacks\n",
    "import numpy as np\n",
    "import pandas as pd\n",
    "from amp.models.discriminators import veltri_amp_classifier\n",
    "import amp.data_utils.data_loader as data_loader\n",
    "import amp.utils.classifier_utils as cu\n",
    "import matplotlib.pyplot as plt\n",
    "from sklearn.model_selection import train_test_split\n",
    "from sklearn.metrics import classification_report\n",
    "import amp.data_utils.sequence as du_sequence\n",
    "\n",
    "seed = 36\n",
    "np.random.seed(seed)"
   ]
  },
  {
   "cell_type": "code",
   "execution_count": 2,
   "metadata": {},
   "outputs": [],
   "source": [
    "config = tf.compat.v1.ConfigProto()\n",
    "config.gpu_options.allow_growth=True\n",
    "sess = tf.compat.v1.Session(config=config)"
   ]
  },
  {
   "cell_type": "code",
   "execution_count": 3,
   "metadata": {},
   "outputs": [],
   "source": [
    "VOCAB_SIZE = 21 #20 amino acids and 1 character (0) for padding\n",
    "MIN_LENGTH = 0\n",
    "MAX_LENGTH = 25"
   ]
  },
  {
   "cell_type": "code",
   "execution_count": 4,
   "metadata": {},
   "outputs": [],
   "source": [
    "from keras import preprocessing\n",
    "\n",
    "sigmoid = lambda x: 1 / (1 + np.exp(4 * (-x + 1.5)))\n",
    "inv_sigmoid = lambda x: -0.25 * np.log((1/x) - 1) + 1.5\n",
    "\n",
    "alphabet = list('ACDEFGHIKLMNPQRSTVWY')\n",
    "\n",
    "def to_one_hot(x):\n",
    "    alphabet = list('ACDEFGHIKLMNPQRSTVWY')\n",
    "    classes = range(1, 21)\n",
    "    aa_encoding = dict(zip(alphabet, classes))\n",
    "    return [[aa_encoding[aa] for aa in seq] for seq in x]\n",
    "\n",
    "def pad(x):\n",
    "    return preprocessing.sequence.pad_sequences(\n",
    "        x,\n",
    "        maxlen=MAX_LENGTH,\n",
    "        padding='post',\n",
    "        value=0.0\n",
    "    )"
   ]
  },
  {
   "cell_type": "code",
   "execution_count": 5,
   "metadata": {},
   "outputs": [],
   "source": [
    "data_manager = data_loader.AMPDataManager(\n",
    "    '../data/unlabelled_positive.csv',\n",
    "    '../data/unlabelled_negative.csv',\n",
    "    min_len=MIN_LENGTH,\n",
    "    max_len=MAX_LENGTH)\n",
    "\n",
    "positives, negatives = data_manager.get_data()"
   ]
  },
  {
   "cell_type": "code",
   "execution_count": 6,
   "metadata": {},
   "outputs": [
    {
     "data": {
      "text/plain": [
       "(array([ 104.,  286.,  599., 2658., 2289.,  872., 1186.,  926., 1268.,\n",
       "         943.]),\n",
       " array([ 2. ,  4.3,  6.6,  8.9, 11.2, 13.5, 15.8, 18.1, 20.4, 22.7, 25. ]),\n",
       " <BarContainer object of 10 artists>)"
      ]
     },
     "execution_count": 6,
     "metadata": {},
     "output_type": "execute_result"
    },
    {
     "data": {
      "image/png": "[encoded data removed]",
      "text/plain": [
       "<Figure size 432x288 with 1 Axes>"
      ]
     },
     "metadata": {
      "needs_background": "light"
     },
     "output_type": "display_data"
    }
   ],
   "source": [
    "plt.hist([len(x) for x in negatives.Sequence])"
   ]
  },
  {
   "cell_type": "code",
   "execution_count": 7,
   "metadata": {
    "scrolled": false
   },
   "outputs": [
    {
     "name": "stderr",
     "output_type": "stream",
     "text": [
      "/home/tgrzegorz/miniconda3/envs/amp/lib/python3.8/site-packages/pandas/core/indexing.py:1596: SettingWithCopyWarning: \n",
      "A value is trying to be set on a copy of a slice from a DataFrame.\n",
      "Try using .loc[row_indexer,col_indexer] = value instead\n",
      "\n",
      "See the caveats in the documentation: https://pandas.pydata.org/pandas-docs/stable/user_guide/indexing.html#returning-a-view-versus-a-copy\n",
      "  self.obj[key] = _infer_fill_value(value)\n",
      "/home/tgrzegorz/miniconda3/envs/amp/lib/python3.8/site-packages/pandas/core/indexing.py:1763: SettingWithCopyWarning: \n",
      "A value is trying to be set on a copy of a slice from a DataFrame.\n",
      "Try using .loc[row_indexer,col_indexer] = value instead\n",
      "\n",
      "See the caveats in the documentation: https://pandas.pydata.org/pandas-docs/stable/user_guide/indexing.html#returning-a-view-versus-a-copy\n",
      "  isetter(loc, value)\n"
     ]
    }
   ],
   "source": [
    "data_manager = data_loader.AMPDataManager(\n",
    "    '../data/unlabelled_positive.csv',\n",
    "    '../data/unlabelled_negative.csv',\n",
    "    min_len=MIN_LENGTH,\n",
    "    max_len=MAX_LENGTH)\n",
    "\n",
    "amp_x, amp_y = data_manager.get_merged_data()\n",
    "amp_x_train, amp_x_test, amp_y_train, amp_y_test = train_test_split(amp_x, amp_y, test_size=0.1, random_state=36)\n",
    "\n",
    "negatives_x_train = amp_x_train[amp_y_train == 0]\n",
    "negatives_x_test = amp_x_test[amp_y_test == 0]"
   ]
  },
  {
   "cell_type": "code",
   "execution_count": 8,
   "metadata": {},
   "outputs": [],
   "source": [
    "from amp.utils.generate_peptides import translate_peptide"
   ]
  },
  {
   "cell_type": "code",
   "execution_count": 9,
   "metadata": {},
   "outputs": [
    {
     "data": {
      "text/plain": [
       "(array([  73.,  256.,  495., 2315., 2091.,  772., 1114.,  861., 1123.,\n",
       "         920.]),\n",
       " array([ 2. ,  4.3,  6.6,  8.9, 11.2, 13.5, 15.8, 18.1, 20.4, 22.7, 25. ]),\n",
       " <BarContainer object of 10 artists>)"
      ]
     },
     "execution_count": 9,
     "metadata": {},
     "output_type": "execute_result"
    },
    {
     "data": {
      "image/png": "[encoded data removed]",
      "text/plain": [
       "<Figure size 432x288 with 1 Axes>"
      ]
     },
     "metadata": {
      "needs_background": "light"
     },
     "output_type": "display_data"
    }
   ],
   "source": [
    "plt.hist([len(translate_peptide(x)) for x in negatives_x_train])"
   ]
  },
  {
   "cell_type": "code",
   "execution_count": 10,
   "metadata": {},
   "outputs": [
    {
     "data": {
      "text/plain": [
       "10020"
      ]
     },
     "execution_count": 10,
     "metadata": {},
     "output_type": "execute_result"
    }
   ],
   "source": [
    "len(negatives_x_train)"
   ]
  },
  {
   "cell_type": "code",
   "execution_count": 11,
   "metadata": {},
   "outputs": [],
   "source": [
    "# Restrict the length\n",
    "ecoli_df = pd.read_csv('../data/mic_data.csv')\n",
    "mask = (ecoli_df['sequence'].str.len() <= MAX_LENGTH) & (ecoli_df['sequence'].str.len() >= MIN_LENGTH)\n",
    "ecoli_df = ecoli_df.loc[mask]\n",
    "mic_x = du_sequence.pad(du_sequence.to_one_hot(ecoli_df['sequence']))\n",
    "mic_y = ecoli_df.value"
   ]
  },
  {
   "cell_type": "code",
   "execution_count": 12,
   "metadata": {},
   "outputs": [
    {
     "data": {
      "text/plain": [
       "(array([ 12.,  34., 136., 551., 694., 802., 745., 363.,  60.,  47.]),\n",
       " array([-1.32395466, -0.84104419, -0.35813373,  0.12477673,  0.6076872 ,\n",
       "         1.09059766,  1.57350812,  2.05641859,  2.53932905,  3.02223951,\n",
       "         3.50514998]),\n",
       " <BarContainer object of 10 artists>)"
      ]
     },
     "execution_count": 12,
     "metadata": {},
     "output_type": "execute_result"
    },
    {
     "data": {
      "image/png": "[encoded data removed]",
      "text/plain": [
       "<Figure size 432x288 with 1 Axes>"
      ]
     },
     "metadata": {
      "needs_background": "light"
     },
     "output_type": "display_data"
    }
   ],
   "source": [
    "plt.hist(mic_y)"
   ]
  },
  {
   "cell_type": "code",
   "execution_count": 13,
   "metadata": {
    "scrolled": true
   },
   "outputs": [
    {
     "data": {
      "text/plain": [
       "(array([ 21.,  43., 131., 509., 600., 376., 545., 415., 307., 497.]),\n",
       " array([ 2. ,  4.3,  6.6,  8.9, 11.2, 13.5, 15.8, 18.1, 20.4, 22.7, 25. ]),\n",
       " <BarContainer object of 10 artists>)"
      ]
     },
     "execution_count": 13,
     "metadata": {},
     "output_type": "execute_result"
    },
    {
     "data": {
      "image/png": "[encoded data removed]",
      "text/plain": [
       "<Figure size 432x288 with 1 Axes>"
      ]
     },
     "metadata": {
      "needs_background": "light"
     },
     "output_type": "display_data"
    }
   ],
   "source": [
    "plt.hist([len(translate_peptide(x)) for x in mic_x])"
   ]
  },
  {
   "cell_type": "code",
   "execution_count": 14,
   "metadata": {},
   "outputs": [],
   "source": [
    "mic_x_train, mic_x_test, mic_y_train, mic_y_test = train_test_split(mic_x, mic_y, test_size=0.1, random_state=36)\n",
    "mic_y_train = (mic_y_train < 1.5).astype(int)\n",
    "mic_y_test = (mic_y_test < 1.5).astype(int)"
   ]
  },
  {
   "cell_type": "code",
   "execution_count": 15,
   "metadata": {},
   "outputs": [],
   "source": [
    "x_train = np.concatenate([mic_x_train, negatives_x_train])\n",
    "y_train = np.concatenate([mic_y_train, np.zeros(len(negatives_x_train))])\n",
    "\n",
    "x_test = np.concatenate([mic_x_test, negatives_x_test])\n",
    "y_test = np.concatenate([mic_y_test.astype(int), np.zeros(len(negatives_x_test))])\n"
   ]
  },
  {
   "cell_type": "code",
   "execution_count": 16,
   "metadata": {},
   "outputs": [],
   "source": [
    "cv = model_selection.StratifiedKFold(n_splits=10, shuffle=True, random_state=seed)"
   ]
  },
  {
   "cell_type": "code",
   "execution_count": 17,
   "metadata": {
    "scrolled": true
   },
   "outputs": [
    {
     "name": "stdout",
     "output_type": "stream",
     "text": [
      "Fold 1\n"
     ]
    },
    {
     "data": {
      "image/png": "[encoded data removed]",
      "text/plain": [
       "<Figure size 432x288 with 1 Axes>"
      ]
     },
     "metadata": {
      "needs_background": "light"
     },
     "output_type": "display_data"
    },
    {
     "name": "stderr",
     "output_type": "stream",
     "text": [
      "/home/tgrzegorz/miniconda3/envs/amp/lib/python3.8/site-packages/tensorflow/python/framework/indexed_slices.py:433: UserWarning: Converting sparse IndexedSlices to a dense Tensor of unknown shape. This may consume a large amount of memory.\n",
      "  warnings.warn(\n"
     ]
    },
    {
     "name": "stdout",
     "output_type": "stream",
     "text": [
      "Train on 20457 samples, validate on 1312 samples\n",
      "Epoch 1/32\n",
      "20457/20457 [==============================] - 4s 184us/step - loss: 0.2569 - accuracy: 0.9005 - val_loss: 0.1954 - val_accuracy: 0.9184\n",
      "Epoch 2/32\n",
      "20457/20457 [==============================] - 2s 104us/step - loss: 0.1599 - accuracy: 0.9460 - val_loss: 0.2108 - val_accuracy: 0.9123\n",
      "Epoch 3/32\n",
      "20457/20457 [==============================] - 2s 106us/step - loss: 0.1192 - accuracy: 0.9611 - val_loss: 0.1698 - val_accuracy: 0.9390\n",
      "Epoch 4/32\n",
      "20457/20457 [==============================] - 2s 103us/step - loss: 0.0943 - accuracy: 0.9704 - val_loss: 0.2068 - val_accuracy: 0.9299\n",
      "Epoch 5/32\n",
      "20457/20457 [==============================] - 2s 98us/step - loss: 0.0853 - accuracy: 0.9730 - val_loss: 0.2018 - val_accuracy: 0.9299\n",
      "Epoch 6/32\n",
      "20457/20457 [==============================] - 2s 105us/step - loss: 0.0737 - accuracy: 0.9778 - val_loss: 0.2024 - val_accuracy: 0.9405\n",
      "Epoch 7/32\n",
      "20457/20457 [==============================] - 2s 90us/step - loss: 0.0662 - accuracy: 0.9803 - val_loss: 0.2464 - val_accuracy: 0.9322\n",
      "Epoch 8/32\n",
      "20457/20457 [==============================] - 2s 95us/step - loss: 0.0625 - accuracy: 0.9818 - val_loss: 0.2583 - val_accuracy: 0.9253\n",
      "Epoch 9/32\n",
      "20457/20457 [==============================] - 2s 98us/step - loss: 0.0546 - accuracy: 0.9843 - val_loss: 0.2366 - val_accuracy: 0.9360\n",
      "Epoch 10/32\n",
      "20457/20457 [==============================] - 2s 88us/step - loss: 0.0494 - accuracy: 0.9852 - val_loss: 0.2458 - val_accuracy: 0.9360\n",
      "Fold 2\n"
     ]
    },
    {
     "data": {
      "image/png": "[encoded data removed]",
      "text/plain": [
       "<Figure size 432x288 with 1 Axes>"
      ]
     },
     "metadata": {
      "needs_background": "light"
     },
     "output_type": "display_data"
    },
    {
     "name": "stdout",
     "output_type": "stream",
     "text": [
      "Train on 20457 samples, validate on 1312 samples\n",
      "Epoch 1/32\n",
      "20457/20457 [==============================] - 2s 119us/step - loss: 0.2591 - accuracy: 0.8977 - val_loss: 0.2137 - val_accuracy: 0.9078\n",
      "Epoch 2/32\n",
      "20457/20457 [==============================] - 2s 93us/step - loss: 0.1554 - accuracy: 0.9473 - val_loss: 0.2003 - val_accuracy: 0.9223\n",
      "Epoch 3/32\n",
      "20457/20457 [==============================] - 2s 95us/step - loss: 0.1159 - accuracy: 0.9626 - val_loss: 0.2075 - val_accuracy: 0.9223\n",
      "Epoch 4/32\n",
      "20457/20457 [==============================] - 2s 103us/step - loss: 0.0976 - accuracy: 0.9697 - val_loss: 0.1885 - val_accuracy: 0.9352\n",
      "Epoch 5/32\n",
      "20457/20457 [==============================] - 2s 97us/step - loss: 0.0836 - accuracy: 0.9751 - val_loss: 0.2324 - val_accuracy: 0.9268\n",
      "Epoch 6/32\n",
      "20457/20457 [==============================] - 2s 92us/step - loss: 0.0751 - accuracy: 0.9783 - val_loss: 0.2505 - val_accuracy: 0.9215\n",
      "Epoch 7/32\n",
      "20457/20457 [==============================] - 2s 97us/step - loss: 0.0698 - accuracy: 0.9790 - val_loss: 0.2050 - val_accuracy: 0.9367\n",
      "Epoch 8/32\n",
      "20457/20457 [==============================] - 2s 101us/step - loss: 0.0651 - accuracy: 0.9810 - val_loss: 0.2083 - val_accuracy: 0.9360\n",
      "Epoch 9/32\n",
      "20457/20457 [==============================] - 2s 95us/step - loss: 0.0562 - accuracy: 0.9837 - val_loss: 0.2306 - val_accuracy: 0.9345\n",
      "Epoch 10/32\n",
      "20457/20457 [==============================] - 2s 99us/step - loss: 0.0527 - accuracy: 0.9847 - val_loss: 0.2360 - val_accuracy: 0.9337\n",
      "Epoch 11/32\n",
      "20457/20457 [==============================] - 2s 99us/step - loss: 0.0482 - accuracy: 0.9859 - val_loss: 0.2316 - val_accuracy: 0.9306\n",
      "Fold 3\n"
     ]
    },
    {
     "data": {
      "image/png": "[encoded data removed]",
      "text/plain": [
       "<Figure size 432x288 with 1 Axes>"
      ]
     },
     "metadata": {
      "needs_background": "light"
     },
     "output_type": "display_data"
    },
    {
     "name": "stdout",
     "output_type": "stream",
     "text": [
      "Train on 20457 samples, validate on 1312 samples\n",
      "Epoch 1/32\n",
      "20457/20457 [==============================] - 2s 121us/step - loss: 0.2583 - accuracy: 0.8989 - val_loss: 0.1756 - val_accuracy: 0.9238\n",
      "Epoch 2/32\n",
      "20457/20457 [==============================] - 2s 100us/step - loss: 0.1630 - accuracy: 0.9442 - val_loss: 0.1649 - val_accuracy: 0.9375\n",
      "Epoch 3/32\n",
      "20457/20457 [==============================] - 2s 94us/step - loss: 0.1164 - accuracy: 0.9624 - val_loss: 0.1916 - val_accuracy: 0.9345\n",
      "Epoch 4/32\n",
      "20457/20457 [==============================] - 2s 98us/step - loss: 0.1017 - accuracy: 0.9685 - val_loss: 0.1469 - val_accuracy: 0.9535\n",
      "Epoch 5/32\n",
      "20457/20457 [==============================] - 2s 98us/step - loss: 0.0854 - accuracy: 0.9747 - val_loss: 0.1886 - val_accuracy: 0.9436\n",
      "Epoch 6/32\n",
      "20457/20457 [==============================] - 2s 93us/step - loss: 0.0773 - accuracy: 0.9778 - val_loss: 0.1856 - val_accuracy: 0.9398\n",
      "Epoch 7/32\n",
      "20457/20457 [==============================] - 2s 94us/step - loss: 0.0688 - accuracy: 0.9791 - val_loss: 0.2021 - val_accuracy: 0.9451\n",
      "Epoch 8/32\n",
      "20457/20457 [==============================] - 2s 98us/step - loss: 0.0627 - accuracy: 0.9814 - val_loss: 0.1739 - val_accuracy: 0.9428\n",
      "Epoch 9/32\n",
      "20457/20457 [==============================] - 2s 99us/step - loss: 0.0551 - accuracy: 0.9838 - val_loss: 0.2393 - val_accuracy: 0.9383\n",
      "Epoch 10/32\n",
      "20457/20457 [==============================] - 2s 101us/step - loss: 0.0540 - accuracy: 0.9843 - val_loss: 0.2678 - val_accuracy: 0.9322\n",
      "Epoch 11/32\n",
      "20457/20457 [==============================] - 2s 99us/step - loss: 0.0501 - accuracy: 0.9853 - val_loss: 0.2310 - val_accuracy: 0.9482\n",
      "Fold 4\n"
     ]
    },
    {
     "data": {
      "image/png": "[encoded data removed]",
      "text/plain": [
       "<Figure size 432x288 with 1 Axes>"
      ]
     },
     "metadata": {
      "needs_background": "light"
     },
     "output_type": "display_data"
    },
    {
     "name": "stdout",
     "output_type": "stream",
     "text": [
      "Train on 20462 samples, validate on 1312 samples\n",
      "Epoch 1/32\n",
      "20462/20462 [==============================] - 2s 115us/step - loss: 0.2598 - accuracy: 0.8983 - val_loss: 0.2161 - val_accuracy: 0.9192\n",
      "Epoch 2/32\n",
      "20462/20462 [==============================] - 2s 101us/step - loss: 0.1619 - accuracy: 0.9455 - val_loss: 0.1923 - val_accuracy: 0.9337\n",
      "Epoch 3/32\n",
      "20462/20462 [==============================] - 2s 88us/step - loss: 0.1198 - accuracy: 0.9606 - val_loss: 0.1924 - val_accuracy: 0.9375\n",
      "Epoch 4/32\n",
      "20462/20462 [==============================] - 2s 95us/step - loss: 0.0985 - accuracy: 0.9684 - val_loss: 0.2041 - val_accuracy: 0.9428\n",
      "Epoch 5/32\n",
      "20462/20462 [==============================] - 2s 107us/step - loss: 0.0811 - accuracy: 0.9752 - val_loss: 0.2061 - val_accuracy: 0.9390\n",
      "Epoch 6/32\n",
      "20462/20462 [==============================] - 2s 95us/step - loss: 0.0722 - accuracy: 0.9787 - val_loss: 0.2149 - val_accuracy: 0.9413\n",
      "Epoch 7/32\n",
      "20462/20462 [==============================] - 2s 92us/step - loss: 0.0680 - accuracy: 0.9793 - val_loss: 0.2045 - val_accuracy: 0.9451\n",
      "Epoch 8/32\n",
      "20462/20462 [==============================] - 2s 108us/step - loss: 0.0578 - accuracy: 0.9832 - val_loss: 0.2238 - val_accuracy: 0.9444\n",
      "Epoch 9/32\n",
      "20462/20462 [==============================] - 2s 96us/step - loss: 0.0572 - accuracy: 0.9831 - val_loss: 0.2164 - val_accuracy: 0.9398\n",
      "Fold 5\n"
     ]
    },
    {
     "data": {
      "image/png": "[encoded data removed]",
      "text/plain": [
       "<Figure size 432x288 with 1 Axes>"
      ]
     },
     "metadata": {
      "needs_background": "light"
     },
     "output_type": "display_data"
    },
    {
     "name": "stdout",
     "output_type": "stream",
     "text": [
      "Train on 20462 samples, validate on 1312 samples\n",
      "Epoch 1/32\n",
      "20462/20462 [==============================] - 3s 128us/step - loss: 0.2525 - accuracy: 0.9024 - val_loss: 0.2221 - val_accuracy: 0.9055\n",
      "Epoch 2/32\n",
      "20462/20462 [==============================] - 2s 94us/step - loss: 0.1556 - accuracy: 0.9452 - val_loss: 0.2435 - val_accuracy: 0.9139\n",
      "Epoch 3/32\n",
      "20462/20462 [==============================] - 2s 93us/step - loss: 0.1166 - accuracy: 0.9614 - val_loss: 0.2633 - val_accuracy: 0.8979\n",
      "Epoch 4/32\n",
      "20462/20462 [==============================] - 2s 104us/step - loss: 0.0961 - accuracy: 0.9707 - val_loss: 0.2195 - val_accuracy: 0.9154\n",
      "Epoch 5/32\n",
      "20462/20462 [==============================] - 2s 94us/step - loss: 0.0814 - accuracy: 0.9755 - val_loss: 0.1994 - val_accuracy: 0.9329\n",
      "Epoch 6/32\n",
      "20462/20462 [==============================] - 2s 95us/step - loss: 0.0733 - accuracy: 0.9784 - val_loss: 0.2097 - val_accuracy: 0.9360\n",
      "Epoch 7/32\n",
      "20462/20462 [==============================] - 2s 102us/step - loss: 0.0653 - accuracy: 0.9812 - val_loss: 0.2727 - val_accuracy: 0.9177\n",
      "Epoch 8/32\n",
      "20462/20462 [==============================] - 2s 100us/step - loss: 0.0602 - accuracy: 0.9818 - val_loss: 0.2400 - val_accuracy: 0.9253\n",
      "Epoch 9/32\n",
      "20462/20462 [==============================] - 2s 91us/step - loss: 0.0579 - accuracy: 0.9830 - val_loss: 0.2385 - val_accuracy: 0.9322\n",
      "Epoch 10/32\n",
      "20462/20462 [==============================] - 2s 99us/step - loss: 0.0502 - accuracy: 0.9853 - val_loss: 0.2126 - val_accuracy: 0.9390\n",
      "Epoch 11/32\n",
      "20462/20462 [==============================] - 2s 105us/step - loss: 0.0478 - accuracy: 0.9856 - val_loss: 0.2928 - val_accuracy: 0.9238\n",
      "Epoch 12/32\n",
      "20462/20462 [==============================] - 2s 90us/step - loss: 0.0420 - accuracy: 0.9877 - val_loss: 0.2838 - val_accuracy: 0.9329\n",
      "Fold 6\n"
     ]
    },
    {
     "data": {
      "image/png": "[encoded data removed]",
      "text/plain": [
       "<Figure size 432x288 with 1 Axes>"
      ]
     },
     "metadata": {
      "needs_background": "light"
     },
     "output_type": "display_data"
    },
    {
     "name": "stdout",
     "output_type": "stream",
     "text": [
      "Train on 20462 samples, validate on 1312 samples\n",
      "Epoch 1/32\n",
      "20462/20462 [==============================] - 3s 126us/step - loss: 0.2573 - accuracy: 0.9040 - val_loss: 0.2570 - val_accuracy: 0.8986\n",
      "Epoch 2/32\n",
      "20462/20462 [==============================] - 2s 95us/step - loss: 0.1607 - accuracy: 0.9445 - val_loss: 0.2249 - val_accuracy: 0.9139\n",
      "Epoch 3/32\n",
      "20462/20462 [==============================] - 2s 97us/step - loss: 0.1138 - accuracy: 0.9632 - val_loss: 0.2141 - val_accuracy: 0.9367\n",
      "Epoch 4/32\n",
      "20462/20462 [==============================] - 2s 97us/step - loss: 0.0932 - accuracy: 0.9705 - val_loss: 0.2395 - val_accuracy: 0.9322\n",
      "Epoch 5/32\n",
      "20462/20462 [==============================] - 2s 91us/step - loss: 0.0788 - accuracy: 0.9753 - val_loss: 0.2243 - val_accuracy: 0.9390\n",
      "Epoch 6/32\n",
      "20462/20462 [==============================] - 2s 92us/step - loss: 0.0719 - accuracy: 0.9785 - val_loss: 0.2186 - val_accuracy: 0.9405\n",
      "Epoch 7/32\n",
      "20462/20462 [==============================] - 2s 102us/step - loss: 0.0642 - accuracy: 0.9810 - val_loss: 0.2584 - val_accuracy: 0.9253\n",
      "Epoch 8/32\n",
      "20462/20462 [==============================] - 2s 96us/step - loss: 0.0595 - accuracy: 0.9825 - val_loss: 0.2796 - val_accuracy: 0.9314\n",
      "Epoch 9/32\n",
      "20462/20462 [==============================] - 2s 93us/step - loss: 0.0552 - accuracy: 0.9830 - val_loss: 0.2473 - val_accuracy: 0.9398\n",
      "Epoch 10/32\n",
      "20462/20462 [==============================] - 2s 99us/step - loss: 0.0495 - accuracy: 0.9850 - val_loss: 0.2865 - val_accuracy: 0.9207\n",
      "Fold 7\n"
     ]
    },
    {
     "data": {
      "image/png": "[encoded data removed]",
      "text/plain": [
       "<Figure size 432x288 with 1 Axes>"
      ]
     },
     "metadata": {
      "needs_background": "light"
     },
     "output_type": "display_data"
    },
    {
     "name": "stdout",
     "output_type": "stream",
     "text": [
      "Train on 20462 samples, validate on 1312 samples\n",
      "Epoch 1/32\n",
      "20462/20462 [==============================] - 2s 108us/step - loss: 0.2558 - accuracy: 0.8989 - val_loss: 0.1990 - val_accuracy: 0.9131\n",
      "Epoch 2/32\n",
      "20462/20462 [==============================] - 2s 99us/step - loss: 0.1534 - accuracy: 0.9482 - val_loss: 0.2165 - val_accuracy: 0.9101\n",
      "Epoch 3/32\n",
      "20462/20462 [==============================] - 2s 99us/step - loss: 0.1149 - accuracy: 0.9637 - val_loss: 0.2195 - val_accuracy: 0.9306\n",
      "Epoch 4/32\n",
      "20462/20462 [==============================] - 2s 90us/step - loss: 0.0958 - accuracy: 0.9697 - val_loss: 0.2127 - val_accuracy: 0.9322\n",
      "Epoch 5/32\n",
      "20462/20462 [==============================] - 2s 101us/step - loss: 0.0825 - accuracy: 0.9742 - val_loss: 0.2298 - val_accuracy: 0.9314\n",
      "Epoch 6/32\n",
      "20462/20462 [==============================] - 2s 100us/step - loss: 0.0705 - accuracy: 0.9786 - val_loss: 0.2268 - val_accuracy: 0.9299\n",
      "Epoch 7/32\n",
      "20462/20462 [==============================] - 2s 91us/step - loss: 0.0662 - accuracy: 0.9794 - val_loss: 0.2269 - val_accuracy: 0.9223\n",
      "Epoch 8/32\n",
      "20462/20462 [==============================] - 2s 98us/step - loss: 0.0611 - accuracy: 0.9820 - val_loss: 0.2699 - val_accuracy: 0.9352\n",
      "Fold 8\n"
     ]
    },
    {
     "data": {
      "image/png": "[encoded data removed]",
      "text/plain": [
       "<Figure size 432x288 with 1 Axes>"
      ]
     },
     "metadata": {
      "needs_background": "light"
     },
     "output_type": "display_data"
    },
    {
     "name": "stdout",
     "output_type": "stream",
     "text": [
      "Train on 20462 samples, validate on 1312 samples\n",
      "Epoch 1/32\n",
      "20462/20462 [==============================] - 2s 111us/step - loss: 0.2542 - accuracy: 0.9035 - val_loss: 0.1944 - val_accuracy: 0.9261\n",
      "Epoch 2/32\n",
      "20462/20462 [==============================] - 2s 93us/step - loss: 0.1627 - accuracy: 0.9432 - val_loss: 0.2643 - val_accuracy: 0.8971\n",
      "Epoch 3/32\n",
      "20462/20462 [==============================] - 2s 104us/step - loss: 0.1204 - accuracy: 0.9611 - val_loss: 0.2023 - val_accuracy: 0.9352\n",
      "Epoch 4/32\n",
      "20462/20462 [==============================] - 2s 90us/step - loss: 0.1015 - accuracy: 0.9680 - val_loss: 0.2148 - val_accuracy: 0.9352\n",
      "Epoch 5/32\n",
      "20462/20462 [==============================] - 2s 93us/step - loss: 0.0854 - accuracy: 0.9743 - val_loss: 0.2171 - val_accuracy: 0.9367\n",
      "Epoch 6/32\n",
      "20462/20462 [==============================] - 2s 106us/step - loss: 0.0775 - accuracy: 0.9762 - val_loss: 0.2202 - val_accuracy: 0.9390\n",
      "Epoch 7/32\n",
      "20462/20462 [==============================] - 2s 96us/step - loss: 0.0690 - accuracy: 0.9784 - val_loss: 0.2495 - val_accuracy: 0.9352\n",
      "Epoch 8/32\n",
      "20462/20462 [==============================] - 2s 95us/step - loss: 0.0643 - accuracy: 0.9804 - val_loss: 0.2530 - val_accuracy: 0.9390\n",
      "Fold 9\n"
     ]
    },
    {
     "data": {
      "image/png": "[encoded data removed]",
      "text/plain": [
       "<Figure size 432x288 with 1 Axes>"
      ]
     },
     "metadata": {
      "needs_background": "light"
     },
     "output_type": "display_data"
    },
    {
     "name": "stdout",
     "output_type": "stream",
     "text": [
      "Train on 20462 samples, validate on 1312 samples\n",
      "Epoch 1/32\n",
      "20462/20462 [==============================] - 2s 122us/step - loss: 0.2559 - accuracy: 0.9004 - val_loss: 0.2857 - val_accuracy: 0.8971\n",
      "Epoch 2/32\n",
      "20462/20462 [==============================] - 2s 93us/step - loss: 0.1554 - accuracy: 0.9478 - val_loss: 0.2095 - val_accuracy: 0.9245\n",
      "Epoch 3/32\n",
      "20462/20462 [==============================] - 2s 100us/step - loss: 0.1203 - accuracy: 0.9605 - val_loss: 0.2189 - val_accuracy: 0.9276\n",
      "Epoch 4/32\n",
      "20462/20462 [==============================] - 2s 96us/step - loss: 0.0997 - accuracy: 0.9696 - val_loss: 0.2431 - val_accuracy: 0.9253\n",
      "Epoch 5/32\n",
      "20462/20462 [==============================] - 2s 92us/step - loss: 0.0844 - accuracy: 0.9746 - val_loss: 0.2178 - val_accuracy: 0.9360\n",
      "Epoch 6/32\n",
      "20462/20462 [==============================] - 2s 95us/step - loss: 0.0757 - accuracy: 0.9771 - val_loss: 0.2369 - val_accuracy: 0.9223\n",
      "Epoch 7/32\n",
      "20462/20462 [==============================] - 2s 94us/step - loss: 0.0664 - accuracy: 0.9802 - val_loss: 0.1909 - val_accuracy: 0.9398\n",
      "Epoch 8/32\n",
      "20462/20462 [==============================] - 2s 91us/step - loss: 0.0614 - accuracy: 0.9819 - val_loss: 0.2291 - val_accuracy: 0.9352\n",
      "Epoch 9/32\n",
      "20462/20462 [==============================] - 2s 95us/step - loss: 0.0569 - accuracy: 0.9830 - val_loss: 0.1928 - val_accuracy: 0.9451\n",
      "Epoch 10/32\n",
      "20462/20462 [==============================] - 2s 100us/step - loss: 0.0521 - accuracy: 0.9839 - val_loss: 0.2136 - val_accuracy: 0.9436\n",
      "Epoch 11/32\n",
      "20462/20462 [==============================] - 2s 89us/step - loss: 0.0476 - accuracy: 0.9862 - val_loss: 0.2217 - val_accuracy: 0.9405\n",
      "Epoch 12/32\n",
      "20462/20462 [==============================] - 2s 92us/step - loss: 0.0447 - accuracy: 0.9873 - val_loss: 0.2459 - val_accuracy: 0.9390\n",
      "Epoch 13/32\n",
      "20462/20462 [==============================] - 2s 106us/step - loss: 0.0421 - accuracy: 0.9881 - val_loss: 0.2315 - val_accuracy: 0.9413\n",
      "Epoch 14/32\n",
      "20462/20462 [==============================] - 2s 92us/step - loss: 0.0414 - accuracy: 0.9871 - val_loss: 0.2461 - val_accuracy: 0.9459\n",
      "Fold 10\n"
     ]
    },
    {
     "data": {
      "image/png": "[encoded data removed]",
      "text/plain": [
       "<Figure size 432x288 with 1 Axes>"
      ]
     },
     "metadata": {
      "needs_background": "light"
     },
     "output_type": "display_data"
    },
    {
     "name": "stdout",
     "output_type": "stream",
     "text": [
      "Train on 20463 samples, validate on 1311 samples\n",
      "Epoch 1/32\n",
      "20463/20463 [==============================] - 3s 126us/step - loss: 0.2596 - accuracy: 0.9002 - val_loss: 0.2362 - val_accuracy: 0.9115\n",
      "Epoch 2/32\n",
      "20463/20463 [==============================] - 2s 89us/step - loss: 0.1608 - accuracy: 0.9471 - val_loss: 0.1943 - val_accuracy: 0.9275\n",
      "Epoch 3/32\n",
      "20463/20463 [==============================] - 2s 91us/step - loss: 0.1153 - accuracy: 0.9641 - val_loss: 0.2363 - val_accuracy: 0.9252\n",
      "Epoch 4/32\n",
      "20463/20463 [==============================] - 2s 103us/step - loss: 0.0968 - accuracy: 0.9699 - val_loss: 0.2820 - val_accuracy: 0.8986\n",
      "Epoch 5/32\n",
      "20463/20463 [==============================] - 2s 93us/step - loss: 0.0821 - accuracy: 0.9743 - val_loss: 0.1920 - val_accuracy: 0.9321\n",
      "Epoch 6/32\n",
      "20463/20463 [==============================] - 2s 92us/step - loss: 0.0706 - accuracy: 0.9785 - val_loss: 0.1919 - val_accuracy: 0.9336\n",
      "Epoch 7/32\n",
      "20463/20463 [==============================] - 2s 97us/step - loss: 0.0660 - accuracy: 0.9800 - val_loss: 0.2247 - val_accuracy: 0.9336\n",
      "Epoch 8/32\n",
      "20463/20463 [==============================] - 2s 92us/step - loss: 0.0592 - accuracy: 0.9826 - val_loss: 0.2085 - val_accuracy: 0.9329\n",
      "Epoch 9/32\n",
      "20463/20463 [==============================] - 2s 89us/step - loss: 0.0550 - accuracy: 0.9841 - val_loss: 0.2348 - val_accuracy: 0.9359\n",
      "Epoch 10/32\n",
      "20463/20463 [==============================] - 2s 94us/step - loss: 0.0459 - accuracy: 0.9859 - val_loss: 0.2502 - val_accuracy: 0.9314\n",
      "Epoch 11/32\n",
      "20463/20463 [==============================] - 2s 102us/step - loss: 0.0501 - accuracy: 0.9852 - val_loss: 0.2384 - val_accuracy: 0.9321\n",
      "Epoch 12/32\n",
      "20463/20463 [==============================] - 2s 92us/step - loss: 0.0403 - accuracy: 0.9875 - val_loss: 0.2581 - val_accuracy: 0.9291\n",
      "Epoch 13/32\n",
      "20463/20463 [==============================] - 2s 93us/step - loss: 0.0377 - accuracy: 0.9886 - val_loss: 0.2609 - val_accuracy: 0.9314\n"
     ]
    }
   ],
   "source": [
    "c = 0\n",
    "oof_preds = np.zeros((len(x_train), 1))\n",
    "test_preds = []\n",
    "mic_test_pred = []\n",
    "for train, val in cv.split(x_train, y_train):\n",
    "    c += 1\n",
    "    print('Fold %s' % c)\n",
    "    mic_classifier = veltri_amp_classifier.VeltriAMPClassifierFactory.get_default(25)\n",
    "    mic_classifier_model = mic_classifier()\n",
    "    x_train_fold = x_train[train]\n",
    "    y_train_fold = y_train[train]\n",
    "    positives = x_train_fold[y_train_fold == 1].tolist() * 5\n",
    "    x_train_fold = np.concatenate([x_train_fold, positives])\n",
    "    y_train_fold = np.concatenate([y_train_fold, np.ones(len(positives))])\n",
    "    plt.hist(y_train_fold)\n",
    "    plt.show()\n",
    "    mic_classifier_model.fit(\n",
    "        x_train_fold, y_train_fold,\n",
    "        epochs=32,\n",
    "        batch_size=64,\n",
    "        validation_data = (x_train[val], y_train[val]),\n",
    "        verbose=1,\n",
    "        callbacks=[callbacks.EarlyStopping(patience=7)],        \n",
    ")\n",
    "    test_pred = mic_classifier_model.predict(x_test, batch_size=10000)\n",
    "    mic_pred = mic_classifier_model.predict(mic_x_test, batch_size=10000)\n",
    "    test_preds.append(test_pred)\n",
    "    mic_test_pred.append(mic_pred)\n",
    "    oof_preds[val] = mic_classifier_model.predict(x_train[val])"
   ]
  },
  {
   "cell_type": "code",
   "execution_count": 18,
   "metadata": {},
   "outputs": [],
   "source": [
    "test_avg = np.mean(np.asarray(test_preds), axis=0).flatten()\n",
    "mic_test_avg = np.mean(np.asarray(mic_test_pred), axis=0).flatten()\n",
    "test_avg_bin = np.where(test_avg > 0.5, 1, 0)\n",
    "mic_test_bin = np.where(mic_test_avg > 0.5, 1, 0)\n",
    "val_preds_bin = np.where(oof_preds > 0.5, 1, 0)"
   ]
  },
  {
   "cell_type": "code",
   "execution_count": 20,
   "metadata": {},
   "outputs": [
    {
     "name": "stdout",
     "output_type": "stream",
     "text": [
      "Full test classification report\n",
      "              precision    recall  f1-score   support\n",
      "\n",
      "         0.0       0.98      0.96      0.97      1253\n",
      "         1.0       0.76      0.85      0.80       203\n",
      "\n",
      "    accuracy                           0.94      1456\n",
      "   macro avg       0.87      0.90      0.89      1456\n",
      "weighted avg       0.95      0.94      0.94      1456\n",
      "\n",
      "Known mic only classification report\n",
      "              precision    recall  f1-score   support\n",
      "\n",
      "           0       0.75      0.65      0.70       142\n",
      "           1       0.78      0.85      0.81       203\n",
      "\n",
      "    accuracy                           0.77       345\n",
      "   macro avg       0.76      0.75      0.75       345\n",
      "weighted avg       0.77      0.77      0.76       345\n",
      "\n"
     ]
    }
   ],
   "source": [
    "print(\"Full test classification report\")\n",
    "print(classification_report(y_test, test_avg_bin))\n",
    "print(\"Known mic only classification report\")\n",
    "print(classification_report(mic_y_test, mic_test_bin))\n"
   ]
  },
  {
   "cell_type": "code",
   "execution_count": 21,
   "metadata": {},
   "outputs": [
    {
     "name": "stdout",
     "output_type": "stream",
     "text": [
      "Validation AUC: 0.9663105388095483\n",
      "Test AUC: 0.9674751040851709\n"
     ]
    }
   ],
   "source": [
    "print(f'Validation AUC: {metrics.roc_auc_score(y_train, oof_preds)}')\n",
    "print(f'Test AUC: {metrics.roc_auc_score(y_test, test_avg)}')"
   ]
  },
  {
   "cell_type": "code",
   "execution_count": 22,
   "metadata": {},
   "outputs": [
    {
     "name": "stdout",
     "output_type": "stream",
     "text": [
      "Validation F1: 0.7930014785608673\n",
      "Test F1: 0.8046511627906977\n"
     ]
    }
   ],
   "source": [
    "print(f'Validation F1: {metrics.f1_score(y_train, val_preds_bin)}')\n",
    "print(f'Test F1: {metrics.f1_score(y_test, test_avg_bin)}')"
   ]
  },
  {
   "cell_type": "code",
   "execution_count": 23,
   "metadata": {},
   "outputs": [
    {
     "name": "stdout",
     "output_type": "stream",
     "text": [
      "Validation sensitivity: 0.8367134685387415\n",
      "Test sensitivity: 0.8522167487684729\n"
     ]
    }
   ],
   "source": [
    "print(f'Validation sensitivity: {metrics.recall_score(y_train, val_preds_bin)}')\n",
    "print(f'Test sensitivity: {metrics.recall_score(y_test, test_avg_bin)}')"
   ]
  },
  {
   "cell_type": "code",
   "execution_count": 24,
   "metadata": {},
   "outputs": [
    {
     "name": "stdout",
     "output_type": "stream",
     "text": [
      "Validation specificity: 0.9530189353340479\n",
      "Test specificity: 0.9569034317637669\n"
     ]
    }
   ],
   "source": [
    "tn, fp, fn, tp = metrics.confusion_matrix(y_train, val_preds_bin).ravel()\n",
    "specificity_val = tn / (tn+fp)\n",
    "tn, fp, fn, tp = metrics.confusion_matrix(y_test, test_avg_bin).ravel()\n",
    "specificity_test = tn / (tn+fp)\n",
    "print(f'Validation specificity: {specificity_val}')\n",
    "print(f'Test specificity: {specificity_test}')"
   ]
  },
  {
   "cell_type": "code",
   "execution_count": 25,
   "metadata": {},
   "outputs": [
    {
     "name": "stdout",
     "output_type": "stream",
     "text": [
      "Validation accuracy: 0.9359707294763321\n",
      "Test accuracy: 0.9423076923076923\n"
     ]
    }
   ],
   "source": [
    "print(f'Validation accuracy: {metrics.accuracy_score(y_train, val_preds_bin)}')\n",
    "print(f'Test accuracy: {metrics.accuracy_score(y_test, test_avg_bin)}')"
   ]
  },
  {
   "cell_type": "code",
   "execution_count": 26,
   "metadata": {},
   "outputs": [
    {
     "name": "stdout",
     "output_type": "stream",
     "text": [
      "Validation MCC: 0.7566967058353357\n",
      "Test MCC: 0.772587571798614\n"
     ]
    }
   ],
   "source": [
    "print(f'Validation MCC: {metrics.matthews_corrcoef(y_train, val_preds_bin)}')\n",
    "print(f'Test MCC: {metrics.matthews_corrcoef(y_test, test_avg_bin)}')"
   ]
  },
  {
   "cell_type": "code",
   "execution_count": 27,
   "metadata": {},
   "outputs": [
    {
     "name": "stdout",
     "output_type": "stream",
     "text": [
      "Validation Confusion Matrix:\n",
      " [[10670   526]\n",
      " [  314  1609]]\n"
     ]
    }
   ],
   "source": [
    "print(f'Validation Confusion Matrix:\\n {metrics.confusion_matrix(y_train, val_preds_bin)}')"
   ]
  },
  {
   "cell_type": "code",
   "execution_count": 28,
   "metadata": {},
   "outputs": [
    {
     "name": "stdout",
     "output_type": "stream",
     "text": [
      "Test Confusion Matrix:\n",
      " [[1199   54]\n",
      " [  30  173]]\n"
     ]
    }
   ],
   "source": [
    "print(f'Test Confusion Matrix:\\n {metrics.confusion_matrix(y_test, test_avg_bin)}')"
   ]
  },
  {
   "cell_type": "code",
   "execution_count": 33,
   "metadata": {},
   "outputs": [
    {
     "name": "stdout",
     "output_type": "stream",
     "text": [
      "Train on 22734 samples, validate on 345 samples\n",
      "Epoch 1/32\n",
      "22734/22734 [==============================] - 3s 114us/step - loss: 0.2556 - accuracy: 0.9016 - val_loss: 0.7835 - val_accuracy: 0.6609\n",
      "Epoch 2/32\n",
      "22734/22734 [==============================] - 2s 102us/step - loss: 0.1555 - accuracy: 0.9451 - val_loss: 0.8281 - val_accuracy: 0.7159\n",
      "Epoch 3/32\n",
      "22734/22734 [==============================] - 2s 99us/step - loss: 0.1152 - accuracy: 0.9627 - val_loss: 0.8659 - val_accuracy: 0.7217\n",
      "Epoch 4/32\n",
      "22734/22734 [==============================] - 2s 100us/step - loss: 0.0970 - accuracy: 0.9693 - val_loss: 0.9337 - val_accuracy: 0.7420\n",
      "Epoch 5/32\n",
      "22734/22734 [==============================] - 2s 100us/step - loss: 0.0820 - accuracy: 0.9749 - val_loss: 1.0230 - val_accuracy: 0.7217\n",
      "Epoch 6/32\n",
      "22734/22734 [==============================] - 2s 98us/step - loss: 0.0773 - accuracy: 0.9762 - val_loss: 0.9292 - val_accuracy: 0.7391\n",
      "Epoch 7/32\n",
      "22734/22734 [==============================] - 2s 101us/step - loss: 0.0695 - accuracy: 0.9788 - val_loss: 1.0147 - val_accuracy: 0.7304\n",
      "Epoch 8/32\n",
      "22734/22734 [==============================] - 2s 101us/step - loss: 0.0614 - accuracy: 0.9810 - val_loss: 1.1624 - val_accuracy: 0.7188\n"
     ]
    },
    {
     "data": {
      "text/plain": [
       "<keras.callbacks.callbacks.History at 0x7fd218675070>"
      ]
     },
     "execution_count": 33,
     "metadata": {},
     "output_type": "execute_result"
    },
    {
     "data": {
      "image/png": "[encoded data removed]",
      "text/plain": [
       "<Figure size 432x288 with 1 Axes>"
      ]
     },
     "metadata": {
      "needs_background": "light"
     },
     "output_type": "display_data"
    }
   ],
   "source": [
    "mic_classifier = veltri_amp_classifier.VeltriAMPClassifierFactory.get_default(25)\n",
    "mic_classifier_model = mic_classifier()\n",
    "positives = x_train[y_train == 1].tolist() * 5\n",
    "x_train_final = np.concatenate([x_train, positives])\n",
    "y_train_final = np.concatenate([y_train, np.ones(len(positives))])\n",
    "plt.hist(y_train_final)\n",
    "mic_classifier_model.fit(\n",
    "        x_train_final, y_train_final,\n",
    "        epochs=32,\n",
    "        batch_size=64,\n",
    "        validation_data=(mic_x_test, mic_y_test),\n",
    "        verbose=1,\n",
    "        callbacks=[callbacks.EarlyStopping(patience=7)],\n",
    ")"
   ]
  },
  {
   "cell_type": "code",
   "execution_count": 34,
   "metadata": {},
   "outputs": [],
   "source": [
    "from amp.utils import basic_model_serializer\n",
    "bms = basic_model_serializer.BasicModelSerializer()\n",
    "bms.save_model(regressor, '../models/mic_classifier')"
   ]
  },
  {
   "cell_type": "code",
   "execution_count": null,
   "metadata": {},
   "outputs": [],
   "source": []
  }
 ],
 "metadata": {
  "kernelspec": {
   "display_name": "Python 3",
   "language": "python",
   "name": "python3"
  },
  "language_info": {
   "codemirror_mode": {
    "name": "ipython",
    "version": 3
   },
   "file_extension": ".py",
   "mimetype": "text/x-python",
   "name": "python",
   "nbconvert_exporter": "python",
   "pygments_lexer": "ipython3",
   "version": "3.8.0"
  }
 },
 "nbformat": 4,
 "nbformat_minor": 4
}
