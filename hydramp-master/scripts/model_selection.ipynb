{
 "cells": [
  {
   "cell_type": "code",
   "execution_count": 1,
   "metadata": {},
   "outputs": [],
   "source": [
    "import tensorflow as tf\n",
    "config = tf.compat.v1.ConfigProto(\n",
    "    gpu_options = tf.compat.v1.GPUOptions(per_process_gpu_memory_fraction=0.8),\n",
    ")\n",
    "config.gpu_options.allow_growth = True\n",
    "session = tf.compat.v1.Session(config=config)\n",
    "tf.compat.v1.keras.backend.set_session(session)"
   ]
  },
  {
   "cell_type": "code",
   "execution_count": 2,
   "metadata": {},
   "outputs": [
    {
     "name": "stderr",
     "output_type": "stream",
     "text": [
      "Using TensorFlow backend.\n"
     ]
    }
   ],
   "source": [
    "import os\n",
    "import warnings\n",
    "warnings.filterwarnings('ignore')\n",
    "\n",
    "import numpy as np\n",
    "import pandas as pd\n",
    "import sklearn\n",
    "from sklearn.model_selection import train_test_split\n",
    "from pathlib import Path\n",
    "from keras import backend, layers, activations, Model\n",
    "\n",
    "from amp.utils.basic_model_serializer import load_master_model_components\n",
    "from amp.models.decoders import amp_expanded_decoder\n",
    "from amp.models.encoders import amp_expanded_encoder\n",
    "from amp.models.master import master\n",
    "from amp.utils import basic_model_serializer\n",
    "import amp.data_utils.data_loader as data_loader\n",
    "from amp.data_utils.sequence import pad, to_one_hot\n",
    "\n",
    "\n",
    "\n",
    "from tqdm import tqdm\n",
    "from joblib import dump, load\n",
    "from sklearn.decomposition import PCA\n",
    "\n",
    "import seaborn as sns\n",
    "import matplotlib.pyplot as plt\n",
    "params = {'axes.labelsize': 16,\n",
    "         'axes.titlesize': 24,\n",
    "         'xtick.labelsize':14,\n",
    "         'ytick.labelsize': 14}\n",
    "plt.rcParams.update(params)\n",
    "plt.rc('text', usetex=False)\n",
    "sns.set_style('whitegrid', {'grid.color': '.95', 'axes.spines.right': False, 'axes.spines.top': False})\n",
    "sns.set_context(\"notebook\")"
   ]
  },
  {
   "cell_type": "code",
   "execution_count": 3,
   "metadata": {},
   "outputs": [],
   "source": [
    "seed = 7\n",
    "np.random.seed(seed)"
   ]
  },
  {
   "cell_type": "code",
   "execution_count": 4,
   "metadata": {},
   "outputs": [],
   "source": [
    "from amp.config import MIN_LENGTH, MAX_LENGTH, LATENT_DIM, MIN_KL, RCL_WEIGHT, HIDDEN_DIM, MAX_TEMPERATURE\n",
    "\n",
    "input_to_encoder = layers.Input(shape=(MAX_LENGTH,))\n",
    "input_to_decoder = layers.Input(shape=(LATENT_DIM+2,))"
   ]
  },
  {
   "cell_type": "code",
   "execution_count": 5,
   "metadata": {},
   "outputs": [],
   "source": [
    "def translate_generated_peptide(encoded_peptide):\n",
    "    alphabet = list('ACDEFGHIKLMNPQRSTVWY')\n",
    "    return ''.join([alphabet[el - 1] if el != 0 else \"\" for el in encoded_peptide[0].argmax(axis=1)])\n",
    "\n",
    "def translate_peptide(encoded_peptide):\n",
    "    alphabet = list('ACDEFGHIKLMNPQRSTVWY')\n",
    "    return ''.join([alphabet[el-1] if el != 0 else \"\" for el in encoded_peptide])"
   ]
  },
  {
   "cell_type": "code",
   "execution_count": 6,
   "metadata": {},
   "outputs": [],
   "source": [
    "models = [\n",
    "    'HydrAMP',\n",
    "    'PepCVAE',\n",
    "    'Basic',\n",
    "]\n",
    "\n",
    "model_labels = [\n",
    "    'HydrAMP',\n",
    "    'PepCVAE',\n",
    "    'Basic',\n",
    "]"
   ]
  },
  {
   "cell_type": "code",
   "execution_count": 7,
   "metadata": {},
   "outputs": [],
   "source": [
    "bms = basic_model_serializer.BasicModelSerializer()\n",
    "amp_classifier = bms.load_model('../models/amp_classifier')\n",
    "amp_classifier_model = amp_classifier()\n",
    "mic_classifier = bms.load_model('../models/mic_classifier/')\n",
    "mic_classifier_model = mic_classifier() "
   ]
  },
  {
   "cell_type": "markdown",
   "metadata": {},
   "source": [
    "# Get validation data"
   ]
  },
  {
   "cell_type": "code",
   "execution_count": 8,
   "metadata": {},
   "outputs": [],
   "source": [
    "data_manager = data_loader.AMPDataManager(\n",
    "    '../data/unlabelled_positive.csv',\n",
    "    '../data/unlabelled_negative.csv',\n",
    "    min_len=MIN_LENGTH,\n",
    "    max_len=MAX_LENGTH)\n",
    "\n",
    "amp_x, amp_y = data_manager.get_merged_data()\n",
    "amp_x_train, amp_x_test, amp_y_train, amp_y_test = train_test_split(amp_x, amp_y, test_size=0.1, random_state=36)\n",
    "amp_x_train, amp_x_val, amp_y_train, amp_y_val = train_test_split(amp_x_train, amp_y_train, test_size=0.2, random_state=36)"
   ]
  },
  {
   "cell_type": "code",
   "execution_count": 9,
   "metadata": {},
   "outputs": [],
   "source": [
    "# Restrict the length\n",
    "ecoli_df = pd.read_csv('../data/mic_data.csv')\n",
    "mask = (ecoli_df['sequence'].str.len() <= MAX_LENGTH) & (ecoli_df['sequence'].str.len() >= MIN_LENGTH)\n",
    "ecoli_df = ecoli_df.loc[mask]\n",
    "mic_x = pad(to_one_hot(ecoli_df['sequence']))\n",
    "mic_y = ecoli_df.value\n",
    "\n",
    "mic_x_train, mic_x_test, mic_y_train, mic_y_test = train_test_split(mic_x, mic_y, test_size=0.1, random_state=36)\n",
    "mic_x_train, mic_x_val, mic_y_train, mic_y_val = train_test_split(mic_x_train, mic_y_train, test_size=0.2, random_state=36)"
   ]
  },
  {
   "cell_type": "code",
   "execution_count": 10,
   "metadata": {},
   "outputs": [],
   "source": [
    "pos = np.vstack([amp_x_val[amp_y_val == 1], mic_x_val[mic_y_val < 1.5]])\n",
    "neg = np.vstack([amp_x_val[amp_y_val == 0], mic_x_val[mic_y_val > 1.5]])"
   ]
  },
  {
   "cell_type": "code",
   "execution_count": 11,
   "metadata": {},
   "outputs": [
    {
     "data": {
      "text/plain": [
       "((2223, 25), (2404, 25))"
      ]
     },
     "execution_count": 11,
     "metadata": {},
     "output_type": "execute_result"
    }
   ],
   "source": [
    "neg.shape, pos.shape"
   ]
  },
  {
   "cell_type": "code",
   "execution_count": 12,
   "metadata": {},
   "outputs": [
    {
     "name": "stdout",
     "output_type": "stream",
     "text": [
      "2404/2404 [==============================] - 2s 762us/step\n",
      "2223/2223 [==============================] - 0s 172us/step\n",
      "2223/2223 [==============================] - 0s 161us/step\n",
      "2404/2404 [==============================] - 0s 44us/step\n"
     ]
    }
   ],
   "source": [
    "pos_amp = amp_classifier_model.predict(pos, verbose=1).reshape(len(pos))\n",
    "neg_mic = mic_classifier_model.predict(neg, verbose=1).reshape(len(neg))\n",
    "neg_amp = amp_classifier_model.predict(neg, verbose=1).reshape(len(neg))\n",
    "pos_mic = mic_classifier_model.predict(pos, verbose=1).reshape(len(pos))"
   ]
  },
  {
   "cell_type": "code",
   "execution_count": 13,
   "metadata": {},
   "outputs": [
    {
     "data": {
      "image/png": "[encoded data removed]",
      "text/plain": [
       "<Figure size 864x288 with 4 Axes>"
      ]
     },
     "metadata": {},
     "output_type": "display_data"
    }
   ],
   "source": [
    "fig, ((ax1, ax2), (ax3, ax4)) = plt.subplots(nrows=2, ncols=2, figsize=(12, 4), sharex=True, sharey=True) \n",
    "ax1.hist(pos_amp)\n",
    "ax1.set_ylabel('AMP')\n",
    "ax1.set_title('Positives')\n",
    "ax2.hist(neg_amp)\n",
    "ax2.set_title('Negatives')\n",
    "\n",
    "ax3.hist(pos_mic)\n",
    "ax3.set_ylabel('MIC')\n",
    "ax4.hist(neg_mic)\n",
    "plt.show()"
   ]
  },
  {
   "cell_type": "code",
   "execution_count": 14,
   "metadata": {},
   "outputs": [],
   "source": [
    "pos = np.vstack([pos] * 64).reshape(-1, 25)\n",
    "pos_amp = np.vstack([pos_amp] * 64).reshape(-1, 1)\n",
    "pos_mic = np.vstack([pos_mic] * 64).reshape(-1, 1)\n",
    "neg = np.vstack([neg] * 64).reshape(-1, 25)\n",
    "neg_amp = np.vstack([neg_amp] * 64).reshape(-1, 1)\n",
    "neg_mic = np.vstack([neg_mic] * 64).reshape(-1, 1)"
   ]
  },
  {
   "cell_type": "code",
   "execution_count": 15,
   "metadata": {},
   "outputs": [],
   "source": [
    "def improve(x, model, epoch, mode):\n",
    "    if mode == 'pos':\n",
    "        amp = pos_amp\n",
    "        mic = pos_mic\n",
    "    else:\n",
    "        amp = neg_mic\n",
    "        mic = neg_mic\n",
    "        \n",
    "    encoded = encoder_model.predict(x, batch_size=5000)\n",
    "    conditioned = np.hstack([\n",
    "        encoded,\n",
    "        np.ones((len(x), 1)),\n",
    "        np.ones((len(x), 1)),\n",
    "    ])\n",
    "    decoded = decoder_model.predict(conditioned, batch_size=5000)\n",
    "    new_peptides = np.argmax(decoded, axis=2)\n",
    "    new_amp = amp_classifier_model.predict(new_peptides, batch_size=5000)\n",
    "    new_mic = mic_classifier_model.predict(new_peptides, batch_size=5000)                                                                             \n",
    "    \n",
    "    # RELATIVE\n",
    "    rel_better = new_amp > amp.reshape(-1, 1)\n",
    "    rel_better = rel_better & (new_mic > mic.reshape(-1, 1))\n",
    "    rel_better = np.logical_or.reduce(rel_better, axis=1)\n",
    "    rel_improved = new_peptides[np.where(rel_better), :].reshape(-1, 25)\n",
    "    before_rel_improve = x[np.where(rel_better), :].reshape(-1, 25)\n",
    "    \n",
    "    # ABSOLUTE\n",
    "    abs_better = new_amp >= 0.8\n",
    "    abs_better = abs_better & (new_mic > 0.5)\n",
    "    abs_better = np.logical_or.reduce(abs_better, axis=1)\n",
    "    abs_improved = new_peptides[np.where(abs_better), :].reshape(-1, 25)\n",
    "    before_abs_improve = x[np.where(abs_better), :].reshape(-1, 25)\n",
    "    \n",
    "    return {\n",
    "        'new_peptides': new_peptides,\n",
    "        'rel_improved': rel_improved,\n",
    "        'abs_improved': abs_improved,\n",
    "        'before_rel_improve': before_rel_improve,\n",
    "        'before_abs_improve': before_abs_improve, \n",
    "        'new_amp': new_amp,\n",
    "        'new_mic': new_mic,\n",
    "        }                                                                             "
   ]
  },
  {
   "cell_type": "markdown",
   "metadata": {},
   "source": [
    "# HydrAMP improve"
   ]
  },
  {
   "cell_type": "code",
   "execution_count": 16,
   "metadata": {
    "scrolled": true
   },
   "outputs": [
    {
     "name": "stderr",
     "output_type": "stream",
     "text": [
      "\r",
      "  0%|          | 0/40 [00:00<?, ?it/s]"
     ]
    },
    {
     "name": "stdout",
     "output_type": "stream",
     "text": [
      "tracking <tf.Variable 'temperature:0' shape=() dtype=float32, numpy=2.0> temperature\n"
     ]
    },
    {
     "name": "stderr",
     "output_type": "stream",
     "text": [
      "\r",
      "  2%|▎         | 1/40 [00:08<05:22,  8.26s/it]"
     ]
    },
    {
     "name": "stdout",
     "output_type": "stream",
     "text": [
      "tracking <tf.Variable 'temperature:0' shape=() dtype=float32, numpy=1.9800997> temperature\n"
     ]
    },
    {
     "name": "stderr",
     "output_type": "stream",
     "text": [
      "\r",
      "  5%|▌         | 2/40 [00:16<05:13,  8.25s/it]"
     ]
    },
    {
     "name": "stdout",
     "output_type": "stream",
     "text": [
      "tracking <tf.Variable 'temperature:0' shape=() dtype=float32, numpy=1.940891> temperature\n"
     ]
    },
    {
     "name": "stderr",
     "output_type": "stream",
     "text": [
      "\r",
      "  8%|▊         | 3/40 [00:24<05:06,  8.29s/it]"
     ]
    },
    {
     "name": "stdout",
     "output_type": "stream",
     "text": [
      "tracking <tf.Variable 'temperature:0' shape=() dtype=float32, numpy=1.8835291> temperature\n"
     ]
    },
    {
     "name": "stderr",
     "output_type": "stream",
     "text": [
      "\r",
      " 10%|█         | 4/40 [00:33<05:00,  8.35s/it]"
     ]
    },
    {
     "name": "stdout",
     "output_type": "stream",
     "text": [
      "tracking <tf.Variable 'temperature:0' shape=() dtype=float32, numpy=1.8096749> temperature\n"
     ]
    },
    {
     "name": "stderr",
     "output_type": "stream",
     "text": [
      "\r",
      " 12%|█▎        | 5/40 [00:42<04:55,  8.44s/it]"
     ]
    },
    {
     "name": "stdout",
     "output_type": "stream",
     "text": [
      "tracking <tf.Variable 'temperature:0' shape=() dtype=float32, numpy=1.721416> temperature\n"
     ]
    },
    {
     "name": "stderr",
     "output_type": "stream",
     "text": [
      "\r",
      " 15%|█▌        | 6/40 [00:50<04:50,  8.55s/it]"
     ]
    },
    {
     "name": "stdout",
     "output_type": "stream",
     "text": [
      "tracking <tf.Variable 'temperature:0' shape=() dtype=float32, numpy=1.6211685> temperature\n"
     ]
    },
    {
     "name": "stderr",
     "output_type": "stream",
     "text": [
      "\r",
      " 18%|█▊        | 7/40 [00:59<04:45,  8.67s/it]"
     ]
    },
    {
     "name": "stdout",
     "output_type": "stream",
     "text": [
      "tracking <tf.Variable 'temperature:0' shape=() dtype=float32, numpy=1.5115675> temperature\n"
     ]
    },
    {
     "name": "stderr",
     "output_type": "stream",
     "text": [
      "\r",
      " 20%|██        | 8/40 [01:08<04:41,  8.80s/it]"
     ]
    },
    {
     "name": "stdout",
     "output_type": "stream",
     "text": [
      "tracking <tf.Variable 'temperature:0' shape=() dtype=float32, numpy=1.3953526> temperature\n"
     ]
    },
    {
     "name": "stderr",
     "output_type": "stream",
     "text": [
      "\r",
      " 22%|██▎       | 9/40 [01:18<04:39,  9.01s/it]"
     ]
    },
    {
     "name": "stdout",
     "output_type": "stream",
     "text": [
      "tracking <tf.Variable 'temperature:0' shape=() dtype=float32, numpy=1.2752563> temperature\n"
     ]
    },
    {
     "name": "stderr",
     "output_type": "stream",
     "text": [
      "\r",
      " 25%|██▌       | 10/40 [01:27<04:33,  9.11s/it]"
     ]
    },
    {
     "name": "stdout",
     "output_type": "stream",
     "text": [
      "tracking <tf.Variable 'temperature:0' shape=() dtype=float32, numpy=1.1538996> temperature\n"
     ]
    },
    {
     "name": "stderr",
     "output_type": "stream",
     "text": [
      "\r",
      " 28%|██▊       | 11/40 [01:37<04:27,  9.23s/it]"
     ]
    },
    {
     "name": "stdout",
     "output_type": "stream",
     "text": [
      "tracking <tf.Variable 'temperature:0' shape=() dtype=float32, numpy=1.0337026> temperature\n"
     ]
    },
    {
     "name": "stderr",
     "output_type": "stream",
     "text": [
      "\r",
      " 30%|███       | 12/40 [01:47<04:24,  9.44s/it]"
     ]
    },
    {
     "name": "stdout",
     "output_type": "stream",
     "text": [
      "tracking <tf.Variable 'temperature:0' shape=() dtype=float32, numpy=0.91681194> temperature\n"
     ]
    },
    {
     "name": "stderr",
     "output_type": "stream",
     "text": [
      "\r",
      " 32%|███▎      | 13/40 [02:08<05:55, 13.15s/it]"
     ]
    },
    {
     "name": "stdout",
     "output_type": "stream",
     "text": [
      "tracking <tf.Variable 'temperature:0' shape=() dtype=float32, numpy=0.8050484> temperature\n"
     ]
    },
    {
     "name": "stderr",
     "output_type": "stream",
     "text": [
      "\r",
      " 35%|███▌      | 14/40 [02:20<05:30, 12.70s/it]"
     ]
    },
    {
     "name": "stdout",
     "output_type": "stream",
     "text": [
      "tracking <tf.Variable 'temperature:0' shape=() dtype=float32, numpy=0.6998755> temperature\n"
     ]
    },
    {
     "name": "stderr",
     "output_type": "stream",
     "text": [
      "\r",
      " 38%|███▊      | 15/40 [02:39<06:06, 14.66s/it]"
     ]
    },
    {
     "name": "stdout",
     "output_type": "stream",
     "text": [
      "tracking <tf.Variable 'temperature:0' shape=() dtype=float32, numpy=0.6023884> temperature\n"
     ]
    },
    {
     "name": "stderr",
     "output_type": "stream",
     "text": [
      "\r",
      " 40%|████      | 16/40 [02:51<05:33, 13.88s/it]"
     ]
    },
    {
     "name": "stdout",
     "output_type": "stream",
     "text": [
      "tracking <tf.Variable 'temperature:0' shape=() dtype=float32, numpy=0.5133215> temperature\n"
     ]
    },
    {
     "name": "stderr",
     "output_type": "stream",
     "text": [
      "\r",
      " 42%|████▎     | 17/40 [03:03<05:05, 13.28s/it]"
     ]
    },
    {
     "name": "stdout",
     "output_type": "stream",
     "text": [
      "tracking <tf.Variable 'temperature:0' shape=() dtype=float32, numpy=0.43307132> temperature\n"
     ]
    },
    {
     "name": "stderr",
     "output_type": "stream",
     "text": [
      "\r",
      " 45%|████▌     | 18/40 [03:16<04:46, 13.04s/it]"
     ]
    },
    {
     "name": "stdout",
     "output_type": "stream",
     "text": [
      "tracking <tf.Variable 'temperature:0' shape=() dtype=float32, numpy=0.36173156> temperature\n"
     ]
    },
    {
     "name": "stderr",
     "output_type": "stream",
     "text": [
      "\r",
      " 48%|████▊     | 19/40 [03:28<04:27, 12.74s/it]"
     ]
    },
    {
     "name": "stdout",
     "output_type": "stream",
     "text": [
      "tracking <tf.Variable 'temperature:0' shape=() dtype=float32, numpy=0.2991372> temperature\n"
     ]
    },
    {
     "name": "stderr",
     "output_type": "stream",
     "text": [
      "\r",
      " 50%|█████     | 20/40 [03:41<04:17, 12.88s/it]"
     ]
    },
    {
     "name": "stdout",
     "output_type": "stream",
     "text": [
      "tracking <tf.Variable 'temperature:0' shape=() dtype=float32, numpy=0.24491283> temperature\n"
     ]
    },
    {
     "name": "stderr",
     "output_type": "stream",
     "text": [
      "\r",
      " 52%|█████▎    | 21/40 [03:54<04:07, 13.02s/it]"
     ]
    },
    {
     "name": "stdout",
     "output_type": "stream",
     "text": [
      "tracking <tf.Variable 'temperature:0' shape=() dtype=float32, numpy=0.19852248> temperature\n"
     ]
    },
    {
     "name": "stderr",
     "output_type": "stream",
     "text": [
      "\r",
      " 55%|█████▌    | 22/40 [04:08<03:58, 13.25s/it]"
     ]
    },
    {
     "name": "stdout",
     "output_type": "stream",
     "text": [
      "tracking <tf.Variable 'temperature:0' shape=() dtype=float32, numpy=0.15931801> temperature\n"
     ]
    },
    {
     "name": "stderr",
     "output_type": "stream",
     "text": [
      "\r",
      " 57%|█████▊    | 23/40 [04:21<03:45, 13.26s/it]"
     ]
    },
    {
     "name": "stdout",
     "output_type": "stream",
     "text": [
      "tracking <tf.Variable 'temperature:0' shape=() dtype=float32, numpy=0.12658352> temperature\n"
     ]
    },
    {
     "name": "stderr",
     "output_type": "stream",
     "text": [
      "\r",
      " 60%|██████    | 24/40 [04:34<03:30, 13.18s/it]"
     ]
    },
    {
     "name": "stdout",
     "output_type": "stream",
     "text": [
      "tracking <tf.Variable 'temperature:0' shape=() dtype=float32, numpy=0.1> temperature\n"
     ]
    },
    {
     "name": "stderr",
     "output_type": "stream",
     "text": [
      "\r",
      " 62%|██████▎   | 25/40 [04:48<03:18, 13.23s/it]"
     ]
    },
    {
     "name": "stdout",
     "output_type": "stream",
     "text": [
      "tracking <tf.Variable 'temperature:0' shape=() dtype=float32, numpy=0.1> temperature\n"
     ]
    },
    {
     "name": "stderr",
     "output_type": "stream",
     "text": [
      "\r",
      " 65%|██████▌   | 26/40 [05:02<03:08, 13.47s/it]"
     ]
    },
    {
     "name": "stdout",
     "output_type": "stream",
     "text": [
      "tracking <tf.Variable 'temperature:0' shape=() dtype=float32, numpy=0.1> temperature\n"
     ]
    },
    {
     "name": "stderr",
     "output_type": "stream",
     "text": [
      "\r",
      " 68%|██████▊   | 27/40 [05:16<02:58, 13.72s/it]"
     ]
    },
    {
     "name": "stdout",
     "output_type": "stream",
     "text": [
      "tracking <tf.Variable 'temperature:0' shape=() dtype=float32, numpy=0.1> temperature\n"
     ]
    },
    {
     "name": "stderr",
     "output_type": "stream",
     "text": [
      "\r",
      " 70%|███████   | 28/40 [05:30<02:46, 13.88s/it]"
     ]
    },
    {
     "name": "stdout",
     "output_type": "stream",
     "text": [
      "tracking <tf.Variable 'temperature:0' shape=() dtype=float32, numpy=0.1> temperature\n"
     ]
    },
    {
     "name": "stderr",
     "output_type": "stream",
     "text": [
      "\r",
      " 72%|███████▎  | 29/40 [05:45<02:36, 14.21s/it]"
     ]
    },
    {
     "name": "stdout",
     "output_type": "stream",
     "text": [
      "tracking <tf.Variable 'temperature:0' shape=() dtype=float32, numpy=0.1> temperature\n"
     ]
    },
    {
     "name": "stderr",
     "output_type": "stream",
     "text": [
      "\r",
      " 75%|███████▌  | 30/40 [06:00<02:24, 14.42s/it]"
     ]
    },
    {
     "name": "stdout",
     "output_type": "stream",
     "text": [
      "tracking <tf.Variable 'temperature:0' shape=() dtype=float32, numpy=0.1> temperature\n"
     ]
    },
    {
     "name": "stderr",
     "output_type": "stream",
     "text": [
      "\r",
      " 78%|███████▊  | 31/40 [06:15<02:11, 14.65s/it]"
     ]
    },
    {
     "name": "stdout",
     "output_type": "stream",
     "text": [
      "tracking <tf.Variable 'temperature:0' shape=() dtype=float32, numpy=0.1> temperature\n"
     ]
    },
    {
     "name": "stderr",
     "output_type": "stream",
     "text": [
      "\r",
      " 80%|████████  | 32/40 [06:31<01:59, 14.99s/it]"
     ]
    },
    {
     "name": "stdout",
     "output_type": "stream",
     "text": [
      "tracking <tf.Variable 'temperature:0' shape=() dtype=float32, numpy=0.1> temperature\n"
     ]
    },
    {
     "name": "stderr",
     "output_type": "stream",
     "text": [
      "\r",
      " 82%|████████▎ | 33/40 [06:47<01:46, 15.20s/it]"
     ]
    },
    {
     "name": "stdout",
     "output_type": "stream",
     "text": [
      "tracking <tf.Variable 'temperature:0' shape=() dtype=float32, numpy=0.1> temperature\n"
     ]
    },
    {
     "name": "stderr",
     "output_type": "stream",
     "text": [
      "\r",
      " 85%|████████▌ | 34/40 [07:03<01:33, 15.54s/it]"
     ]
    },
    {
     "name": "stdout",
     "output_type": "stream",
     "text": [
      "tracking <tf.Variable 'temperature:0' shape=() dtype=float32, numpy=0.1> temperature\n"
     ]
    },
    {
     "name": "stderr",
     "output_type": "stream",
     "text": [
      "\r",
      " 88%|████████▊ | 35/40 [07:20<01:18, 15.78s/it]"
     ]
    },
    {
     "name": "stdout",
     "output_type": "stream",
     "text": [
      "tracking <tf.Variable 'temperature:0' shape=() dtype=float32, numpy=0.1> temperature\n"
     ]
    },
    {
     "name": "stderr",
     "output_type": "stream",
     "text": [
      "\r",
      " 90%|█████████ | 36/40 [07:36<01:03, 15.89s/it]"
     ]
    },
    {
     "name": "stdout",
     "output_type": "stream",
     "text": [
      "tracking <tf.Variable 'temperature:0' shape=() dtype=float32, numpy=0.1> temperature\n"
     ]
    },
    {
     "name": "stderr",
     "output_type": "stream",
     "text": [
      "\r",
      " 92%|█████████▎| 37/40 [07:53<00:48, 16.24s/it]"
     ]
    },
    {
     "name": "stdout",
     "output_type": "stream",
     "text": [
      "tracking <tf.Variable 'temperature:0' shape=() dtype=float32, numpy=0.1> temperature\n"
     ]
    },
    {
     "name": "stderr",
     "output_type": "stream",
     "text": [
      "\r",
      " 95%|█████████▌| 38/40 [08:09<00:32, 16.25s/it]"
     ]
    },
    {
     "name": "stdout",
     "output_type": "stream",
     "text": [
      "tracking <tf.Variable 'temperature:0' shape=() dtype=float32, numpy=0.1> temperature\n"
     ]
    },
    {
     "name": "stderr",
     "output_type": "stream",
     "text": [
      "\r",
      " 98%|█████████▊| 39/40 [08:27<00:16, 16.66s/it]"
     ]
    },
    {
     "name": "stdout",
     "output_type": "stream",
     "text": [
      "tracking <tf.Variable 'temperature:0' shape=() dtype=float32, numpy=0.1> temperature\n"
     ]
    },
    {
     "name": "stderr",
     "output_type": "stream",
     "text": [
      "100%|██████████| 40/40 [08:44<00:00, 13.11s/it]\n"
     ]
    },
    {
     "data": {
      "text/plain": [
       "['../results/improvement_NegVal_HydrAMP.joblib']"
      ]
     },
     "execution_count": 16,
     "metadata": {},
     "output_type": "execute_result"
    }
   ],
   "source": [
    "from keras.models import Model\n",
    "model = models[0]\n",
    "current_model_pos = {epoch: [] for epoch in range(40)} \n",
    "current_model_neg = {epoch: [] for epoch in range(40)}    \n",
    "for epoch in tqdm(range(40)):\n",
    "        AMPMaster = bms.load_model(f'../models/{model}/{epoch}')\n",
    "        encoder_model =  AMPMaster.encoder(input_to_encoder)\n",
    "        decoder_model = AMPMaster.decoder(input_to_decoder)         \n",
    "        current_model_pos[epoch] = improve(pos, model, epoch, 'pos')\n",
    "        current_model_neg[epoch] = improve(neg, model, epoch, 'neg')\n",
    "dump(current_model_pos, f'../results/improvement_PosVal_{model}.joblib') \n",
    "dump(current_model_neg, f'../results/improvement_NegVal_{model}.joblib') \n"
   ]
  },
  {
   "cell_type": "markdown",
   "metadata": {},
   "source": [
    "# PepCVAE improve"
   ]
  },
  {
   "cell_type": "code",
   "execution_count": 17,
   "metadata": {},
   "outputs": [
    {
     "name": "stderr",
     "output_type": "stream",
     "text": [
      "\r",
      "  0%|          | 0/40 [00:00<?, ?it/s]"
     ]
    },
    {
     "name": "stdout",
     "output_type": "stream",
     "text": [
      "tracking <tf.Variable 'temperature:0' shape=() dtype=float32, numpy=2.0> temperature\n"
     ]
    },
    {
     "name": "stderr",
     "output_type": "stream",
     "text": [
      "\r",
      "  2%|▎         | 1/40 [00:16<10:32, 16.23s/it]"
     ]
    },
    {
     "name": "stdout",
     "output_type": "stream",
     "text": [
      "tracking <tf.Variable 'temperature:0' shape=() dtype=float32, numpy=1.9800997> temperature\n"
     ]
    },
    {
     "name": "stderr",
     "output_type": "stream",
     "text": [
      "\r",
      "  5%|▌         | 2/40 [00:33<10:31, 16.63s/it]"
     ]
    },
    {
     "name": "stdout",
     "output_type": "stream",
     "text": [
      "tracking <tf.Variable 'temperature:0' shape=() dtype=float32, numpy=1.940891> temperature\n"
     ]
    },
    {
     "name": "stderr",
     "output_type": "stream",
     "text": [
      "\r",
      "  8%|▊         | 3/40 [00:51<10:31, 17.06s/it]"
     ]
    },
    {
     "name": "stdout",
     "output_type": "stream",
     "text": [
      "tracking <tf.Variable 'temperature:0' shape=() dtype=float32, numpy=1.8835291> temperature\n"
     ]
    },
    {
     "name": "stderr",
     "output_type": "stream",
     "text": [
      "\r",
      " 10%|█         | 4/40 [01:09<10:15, 17.11s/it]"
     ]
    },
    {
     "name": "stdout",
     "output_type": "stream",
     "text": [
      "tracking <tf.Variable 'temperature:0' shape=() dtype=float32, numpy=1.8096749> temperature\n"
     ]
    },
    {
     "name": "stderr",
     "output_type": "stream",
     "text": [
      "\r",
      " 12%|█▎        | 5/40 [01:28<10:18, 17.67s/it]"
     ]
    },
    {
     "name": "stdout",
     "output_type": "stream",
     "text": [
      "tracking <tf.Variable 'temperature:0' shape=() dtype=float32, numpy=1.721416> temperature\n"
     ]
    },
    {
     "name": "stderr",
     "output_type": "stream",
     "text": [
      "\r",
      " 15%|█▌        | 6/40 [01:47<10:13, 18.05s/it]"
     ]
    },
    {
     "name": "stdout",
     "output_type": "stream",
     "text": [
      "tracking <tf.Variable 'temperature:0' shape=() dtype=float32, numpy=1.6211685> temperature\n"
     ]
    },
    {
     "name": "stderr",
     "output_type": "stream",
     "text": [
      "\r",
      " 18%|█▊        | 7/40 [02:05<09:58, 18.14s/it]"
     ]
    },
    {
     "name": "stdout",
     "output_type": "stream",
     "text": [
      "tracking <tf.Variable 'temperature:0' shape=() dtype=float32, numpy=1.5115675> temperature\n"
     ]
    },
    {
     "name": "stderr",
     "output_type": "stream",
     "text": [
      "\r",
      " 20%|██        | 8/40 [02:26<10:05, 18.93s/it]"
     ]
    },
    {
     "name": "stdout",
     "output_type": "stream",
     "text": [
      "tracking <tf.Variable 'temperature:0' shape=() dtype=float32, numpy=1.3953526> temperature\n"
     ]
    },
    {
     "name": "stderr",
     "output_type": "stream",
     "text": [
      "\r",
      " 22%|██▎       | 9/40 [02:45<09:54, 19.17s/it]"
     ]
    },
    {
     "name": "stdout",
     "output_type": "stream",
     "text": [
      "tracking <tf.Variable 'temperature:0' shape=() dtype=float32, numpy=1.2752563> temperature\n"
     ]
    },
    {
     "name": "stderr",
     "output_type": "stream",
     "text": [
      "\r",
      " 25%|██▌       | 10/40 [03:05<09:37, 19.26s/it]"
     ]
    },
    {
     "name": "stdout",
     "output_type": "stream",
     "text": [
      "tracking <tf.Variable 'temperature:0' shape=() dtype=float32, numpy=1.1538996> temperature\n"
     ]
    },
    {
     "name": "stderr",
     "output_type": "stream",
     "text": [
      "\r",
      " 28%|██▊       | 11/40 [03:24<09:15, 19.17s/it]"
     ]
    },
    {
     "name": "stdout",
     "output_type": "stream",
     "text": [
      "tracking <tf.Variable 'temperature:0' shape=() dtype=float32, numpy=1.0337026> temperature\n"
     ]
    },
    {
     "name": "stderr",
     "output_type": "stream",
     "text": [
      "\r",
      " 30%|███       | 12/40 [03:44<09:07, 19.55s/it]"
     ]
    },
    {
     "name": "stdout",
     "output_type": "stream",
     "text": [
      "tracking <tf.Variable 'temperature:0' shape=() dtype=float32, numpy=0.91681194> temperature\n"
     ]
    },
    {
     "name": "stderr",
     "output_type": "stream",
     "text": [
      "\r",
      " 32%|███▎      | 13/40 [04:05<08:54, 19.80s/it]"
     ]
    },
    {
     "name": "stdout",
     "output_type": "stream",
     "text": [
      "tracking <tf.Variable 'temperature:0' shape=() dtype=float32, numpy=0.8050484> temperature\n"
     ]
    },
    {
     "name": "stderr",
     "output_type": "stream",
     "text": [
      "\r",
      " 35%|███▌      | 14/40 [04:26<08:48, 20.34s/it]"
     ]
    },
    {
     "name": "stdout",
     "output_type": "stream",
     "text": [
      "tracking <tf.Variable 'temperature:0' shape=() dtype=float32, numpy=0.6998755> temperature\n"
     ]
    },
    {
     "name": "stderr",
     "output_type": "stream",
     "text": [
      "\r",
      " 38%|███▊      | 15/40 [04:46<08:26, 20.27s/it]"
     ]
    },
    {
     "name": "stdout",
     "output_type": "stream",
     "text": [
      "tracking <tf.Variable 'temperature:0' shape=() dtype=float32, numpy=0.6023884> temperature\n"
     ]
    },
    {
     "name": "stderr",
     "output_type": "stream",
     "text": [
      "\r",
      " 40%|████      | 16/40 [05:08<08:18, 20.78s/it]"
     ]
    },
    {
     "name": "stdout",
     "output_type": "stream",
     "text": [
      "tracking <tf.Variable 'temperature:0' shape=() dtype=float32, numpy=0.5133215> temperature\n"
     ]
    },
    {
     "name": "stderr",
     "output_type": "stream",
     "text": [
      "\r",
      " 42%|████▎     | 17/40 [05:31<08:08, 21.25s/it]"
     ]
    },
    {
     "name": "stdout",
     "output_type": "stream",
     "text": [
      "tracking <tf.Variable 'temperature:0' shape=() dtype=float32, numpy=0.43307132> temperature\n"
     ]
    },
    {
     "name": "stderr",
     "output_type": "stream",
     "text": [
      "\r",
      " 45%|████▌     | 18/40 [05:53<07:57, 21.71s/it]"
     ]
    },
    {
     "name": "stdout",
     "output_type": "stream",
     "text": [
      "tracking <tf.Variable 'temperature:0' shape=() dtype=float32, numpy=0.36173156> temperature\n"
     ]
    },
    {
     "name": "stderr",
     "output_type": "stream",
     "text": [
      "\r",
      " 48%|████▊     | 19/40 [06:16<07:38, 21.85s/it]"
     ]
    },
    {
     "name": "stdout",
     "output_type": "stream",
     "text": [
      "tracking <tf.Variable 'temperature:0' shape=() dtype=float32, numpy=0.2991372> temperature\n"
     ]
    },
    {
     "name": "stderr",
     "output_type": "stream",
     "text": [
      "\r",
      " 50%|█████     | 20/40 [06:38<07:20, 22.03s/it]"
     ]
    },
    {
     "name": "stdout",
     "output_type": "stream",
     "text": [
      "tracking <tf.Variable 'temperature:0' shape=() dtype=float32, numpy=0.24491283> temperature\n"
     ]
    },
    {
     "name": "stderr",
     "output_type": "stream",
     "text": [
      "\r",
      " 52%|█████▎    | 21/40 [07:01<07:05, 22.41s/it]"
     ]
    },
    {
     "name": "stdout",
     "output_type": "stream",
     "text": [
      "tracking <tf.Variable 'temperature:0' shape=() dtype=float32, numpy=0.19852248> temperature\n"
     ]
    },
    {
     "name": "stderr",
     "output_type": "stream",
     "text": [
      "\r",
      " 55%|█████▌    | 22/40 [07:24<06:46, 22.57s/it]"
     ]
    },
    {
     "name": "stdout",
     "output_type": "stream",
     "text": [
      "tracking <tf.Variable 'temperature:0' shape=() dtype=float32, numpy=0.15931801> temperature\n"
     ]
    },
    {
     "name": "stderr",
     "output_type": "stream",
     "text": [
      "\r",
      " 57%|█████▊    | 23/40 [07:49<06:32, 23.11s/it]"
     ]
    },
    {
     "name": "stdout",
     "output_type": "stream",
     "text": [
      "tracking <tf.Variable 'temperature:0' shape=() dtype=float32, numpy=0.12658352> temperature\n"
     ]
    },
    {
     "name": "stderr",
     "output_type": "stream",
     "text": [
      "\r",
      " 60%|██████    | 24/40 [08:11<06:03, 22.74s/it]"
     ]
    },
    {
     "name": "stdout",
     "output_type": "stream",
     "text": [
      "tracking <tf.Variable 'temperature:0' shape=() dtype=float32, numpy=0.1> temperature\n"
     ]
    },
    {
     "name": "stderr",
     "output_type": "stream",
     "text": [
      "\r",
      " 62%|██████▎   | 25/40 [08:34<05:45, 23.04s/it]"
     ]
    },
    {
     "name": "stdout",
     "output_type": "stream",
     "text": [
      "tracking <tf.Variable 'temperature:0' shape=() dtype=float32, numpy=0.1> temperature\n"
     ]
    },
    {
     "name": "stderr",
     "output_type": "stream",
     "text": [
      "\r",
      " 65%|██████▌   | 26/40 [08:58<05:27, 23.36s/it]"
     ]
    },
    {
     "name": "stdout",
     "output_type": "stream",
     "text": [
      "tracking <tf.Variable 'temperature:0' shape=() dtype=float32, numpy=0.1> temperature\n"
     ]
    },
    {
     "name": "stderr",
     "output_type": "stream",
     "text": [
      "\r",
      " 68%|██████▊   | 27/40 [09:23<05:08, 23.71s/it]"
     ]
    },
    {
     "name": "stdout",
     "output_type": "stream",
     "text": [
      "tracking <tf.Variable 'temperature:0' shape=() dtype=float32, numpy=0.1> temperature\n"
     ]
    },
    {
     "name": "stderr",
     "output_type": "stream",
     "text": [
      "\r",
      " 70%|███████   | 28/40 [09:48<04:49, 24.14s/it]"
     ]
    },
    {
     "name": "stdout",
     "output_type": "stream",
     "text": [
      "tracking <tf.Variable 'temperature:0' shape=() dtype=float32, numpy=0.1> temperature\n"
     ]
    },
    {
     "name": "stderr",
     "output_type": "stream",
     "text": [
      "\r",
      " 72%|███████▎  | 29/40 [10:13<04:28, 24.44s/it]"
     ]
    },
    {
     "name": "stdout",
     "output_type": "stream",
     "text": [
      "tracking <tf.Variable 'temperature:0' shape=() dtype=float32, numpy=0.1> temperature\n"
     ]
    },
    {
     "name": "stderr",
     "output_type": "stream",
     "text": [
      "\r",
      " 75%|███████▌  | 30/40 [10:41<04:13, 25.37s/it]"
     ]
    },
    {
     "name": "stdout",
     "output_type": "stream",
     "text": [
      "tracking <tf.Variable 'temperature:0' shape=() dtype=float32, numpy=0.1> temperature\n"
     ]
    },
    {
     "name": "stderr",
     "output_type": "stream",
     "text": [
      "\r",
      " 78%|███████▊  | 31/40 [11:06<03:48, 25.42s/it]"
     ]
    },
    {
     "name": "stdout",
     "output_type": "stream",
     "text": [
      "tracking <tf.Variable 'temperature:0' shape=() dtype=float32, numpy=0.1> temperature\n"
     ]
    },
    {
     "name": "stderr",
     "output_type": "stream",
     "text": [
      "\r",
      " 80%|████████  | 32/40 [11:32<03:24, 25.59s/it]"
     ]
    },
    {
     "name": "stdout",
     "output_type": "stream",
     "text": [
      "tracking <tf.Variable 'temperature:0' shape=() dtype=float32, numpy=0.1> temperature\n"
     ]
    },
    {
     "name": "stderr",
     "output_type": "stream",
     "text": [
      "\r",
      " 82%|████████▎ | 33/40 [11:57<02:57, 25.32s/it]"
     ]
    },
    {
     "name": "stdout",
     "output_type": "stream",
     "text": [
      "tracking <tf.Variable 'temperature:0' shape=() dtype=float32, numpy=0.1> temperature\n"
     ]
    },
    {
     "name": "stderr",
     "output_type": "stream",
     "text": [
      "\r",
      " 85%|████████▌ | 34/40 [12:23<02:32, 25.47s/it]"
     ]
    },
    {
     "name": "stdout",
     "output_type": "stream",
     "text": [
      "tracking <tf.Variable 'temperature:0' shape=() dtype=float32, numpy=0.1> temperature\n"
     ]
    },
    {
     "name": "stderr",
     "output_type": "stream",
     "text": [
      "\r",
      " 88%|████████▊ | 35/40 [12:50<02:10, 26.02s/it]"
     ]
    },
    {
     "name": "stdout",
     "output_type": "stream",
     "text": [
      "tracking <tf.Variable 'temperature:0' shape=() dtype=float32, numpy=0.1> temperature\n"
     ]
    },
    {
     "name": "stderr",
     "output_type": "stream",
     "text": [
      "\r",
      " 90%|█████████ | 36/40 [13:16<01:44, 26.14s/it]"
     ]
    },
    {
     "name": "stdout",
     "output_type": "stream",
     "text": [
      "tracking <tf.Variable 'temperature:0' shape=() dtype=float32, numpy=0.1> temperature\n"
     ]
    },
    {
     "name": "stderr",
     "output_type": "stream",
     "text": [
      "\r",
      " 92%|█████████▎| 37/40 [13:43<01:18, 26.14s/it]"
     ]
    },
    {
     "name": "stdout",
     "output_type": "stream",
     "text": [
      "tracking <tf.Variable 'temperature:0' shape=() dtype=float32, numpy=0.1> temperature\n"
     ]
    },
    {
     "name": "stderr",
     "output_type": "stream",
     "text": [
      "\r",
      " 95%|█████████▌| 38/40 [14:10<00:53, 26.56s/it]"
     ]
    },
    {
     "name": "stdout",
     "output_type": "stream",
     "text": [
      "tracking <tf.Variable 'temperature:0' shape=() dtype=float32, numpy=0.1> temperature\n"
     ]
    },
    {
     "name": "stderr",
     "output_type": "stream",
     "text": [
      "\r",
      " 98%|█████████▊| 39/40 [14:39<00:27, 27.23s/it]"
     ]
    },
    {
     "name": "stdout",
     "output_type": "stream",
     "text": [
      "tracking <tf.Variable 'temperature:0' shape=() dtype=float32, numpy=0.1> temperature\n"
     ]
    },
    {
     "name": "stderr",
     "output_type": "stream",
     "text": [
      "100%|██████████| 40/40 [15:07<00:00, 22.69s/it]\n"
     ]
    },
    {
     "data": {
      "text/plain": [
       "['../results/improvement_NegVal_PepCVAE.joblib']"
      ]
     },
     "execution_count": 17,
     "metadata": {},
     "output_type": "execute_result"
    }
   ],
   "source": [
    "from keras.models import Model\n",
    "model = models[1]\n",
    "current_model_pos = {epoch: [] for epoch in range(40)} \n",
    "current_model_neg = {epoch: [] for epoch in range(40)}    \n",
    "for epoch in tqdm(range(40)):\n",
    "        AMPMaster = bms.load_model(f'../models/{model}/{epoch}')\n",
    "        encoder_model =  AMPMaster.encoder(input_to_encoder)\n",
    "        decoder_model = AMPMaster.decoder(input_to_decoder)\n",
    "        new_act = layers.TimeDistributed(\n",
    "            layers.Activation(activations.softmax),\n",
    "            name='decoder_time_distribute_activation')\n",
    "        decoder_model.layers.pop()\n",
    "        x = new_act(decoder_model.layers[-1].output)\n",
    "        decoder_model = Model(input=decoder_model.input, output=[x])            \n",
    "        current_model_pos[epoch] = improve(pos, model, epoch, 'pos')\n",
    "        current_model_neg[epoch] = improve(neg, model, epoch, 'neg')\n",
    "dump(current_model_pos, f'../results/improvement_PosVal_{model}.joblib') \n",
    "dump(current_model_neg, f'../results/improvement_NegVal_{model}.joblib') \n"
   ]
  },
  {
   "cell_type": "markdown",
   "metadata": {},
   "source": [
    "# Basic improvement"
   ]
  },
  {
   "cell_type": "code",
   "execution_count": 18,
   "metadata": {},
   "outputs": [
    {
     "name": "stderr",
     "output_type": "stream",
     "text": [
      "\r",
      "  0%|          | 0/40 [00:00<?, ?it/s]"
     ]
    },
    {
     "name": "stdout",
     "output_type": "stream",
     "text": [
      "tracking <tf.Variable 'temperature:0' shape=() dtype=float32, numpy=2.0> temperature\n"
     ]
    },
    {
     "name": "stderr",
     "output_type": "stream",
     "text": [
      "\r",
      "  2%|▎         | 1/40 [00:28<18:36, 28.62s/it]"
     ]
    },
    {
     "name": "stdout",
     "output_type": "stream",
     "text": [
      "tracking <tf.Variable 'temperature:0' shape=() dtype=float32, numpy=1.9800997> temperature\n"
     ]
    },
    {
     "name": "stderr",
     "output_type": "stream",
     "text": [
      "\r",
      "  5%|▌         | 2/40 [01:05<19:40, 31.06s/it]"
     ]
    },
    {
     "name": "stdout",
     "output_type": "stream",
     "text": [
      "tracking <tf.Variable 'temperature:0' shape=() dtype=float32, numpy=1.940891> temperature\n"
     ]
    },
    {
     "name": "stderr",
     "output_type": "stream",
     "text": [
      "\r",
      "  8%|▊         | 3/40 [01:34<18:46, 30.46s/it]"
     ]
    },
    {
     "name": "stdout",
     "output_type": "stream",
     "text": [
      "tracking <tf.Variable 'temperature:0' shape=() dtype=float32, numpy=1.8835291> temperature\n"
     ]
    },
    {
     "name": "stderr",
     "output_type": "stream",
     "text": [
      "\r",
      " 10%|█         | 4/40 [02:05<18:22, 30.62s/it]"
     ]
    },
    {
     "name": "stdout",
     "output_type": "stream",
     "text": [
      "tracking <tf.Variable 'temperature:0' shape=() dtype=float32, numpy=1.8096749> temperature\n"
     ]
    },
    {
     "name": "stderr",
     "output_type": "stream",
     "text": [
      "\r",
      " 12%|█▎        | 5/40 [02:36<17:52, 30.66s/it]"
     ]
    },
    {
     "name": "stdout",
     "output_type": "stream",
     "text": [
      "tracking <tf.Variable 'temperature:0' shape=() dtype=float32, numpy=1.721416> temperature\n"
     ]
    },
    {
     "name": "stderr",
     "output_type": "stream",
     "text": [
      "\r",
      " 15%|█▌        | 6/40 [03:06<17:23, 30.68s/it]"
     ]
    },
    {
     "name": "stdout",
     "output_type": "stream",
     "text": [
      "tracking <tf.Variable 'temperature:0' shape=() dtype=float32, numpy=1.6211685> temperature\n"
     ]
    },
    {
     "name": "stderr",
     "output_type": "stream",
     "text": [
      "\r",
      " 18%|█▊        | 7/40 [03:39<17:07, 31.15s/it]"
     ]
    },
    {
     "name": "stdout",
     "output_type": "stream",
     "text": [
      "tracking <tf.Variable 'temperature:0' shape=() dtype=float32, numpy=1.5115675> temperature\n"
     ]
    },
    {
     "name": "stderr",
     "output_type": "stream",
     "text": [
      "\r",
      " 20%|██        | 8/40 [04:11<16:52, 31.66s/it]"
     ]
    },
    {
     "name": "stdout",
     "output_type": "stream",
     "text": [
      "tracking <tf.Variable 'temperature:0' shape=() dtype=float32, numpy=1.3953526> temperature\n"
     ]
    },
    {
     "name": "stderr",
     "output_type": "stream",
     "text": [
      "\r",
      " 22%|██▎       | 9/40 [04:46<16:44, 32.40s/it]"
     ]
    },
    {
     "name": "stdout",
     "output_type": "stream",
     "text": [
      "tracking <tf.Variable 'temperature:0' shape=() dtype=float32, numpy=1.2752563> temperature\n"
     ]
    },
    {
     "name": "stderr",
     "output_type": "stream",
     "text": [
      "\r",
      " 25%|██▌       | 10/40 [05:19<16:23, 32.80s/it]"
     ]
    },
    {
     "name": "stdout",
     "output_type": "stream",
     "text": [
      "tracking <tf.Variable 'temperature:0' shape=() dtype=float32, numpy=1.1538996> temperature\n"
     ]
    },
    {
     "name": "stderr",
     "output_type": "stream",
     "text": [
      "\r",
      " 28%|██▊       | 11/40 [05:54<16:03, 33.21s/it]"
     ]
    },
    {
     "name": "stdout",
     "output_type": "stream",
     "text": [
      "tracking <tf.Variable 'temperature:0' shape=() dtype=float32, numpy=1.0337026> temperature\n"
     ]
    },
    {
     "name": "stderr",
     "output_type": "stream",
     "text": [
      "\r",
      " 30%|███       | 12/40 [06:31<16:08, 34.60s/it]"
     ]
    },
    {
     "name": "stdout",
     "output_type": "stream",
     "text": [
      "tracking <tf.Variable 'temperature:0' shape=() dtype=float32, numpy=0.91681194> temperature\n"
     ]
    },
    {
     "name": "stderr",
     "output_type": "stream",
     "text": [
      "\r",
      " 32%|███▎      | 13/40 [07:03<15:13, 33.83s/it]"
     ]
    },
    {
     "name": "stdout",
     "output_type": "stream",
     "text": [
      "tracking <tf.Variable 'temperature:0' shape=() dtype=float32, numpy=0.8050484> temperature\n"
     ]
    },
    {
     "name": "stderr",
     "output_type": "stream",
     "text": [
      "\r",
      " 35%|███▌      | 14/40 [07:37<14:39, 33.83s/it]"
     ]
    },
    {
     "name": "stdout",
     "output_type": "stream",
     "text": [
      "tracking <tf.Variable 'temperature:0' shape=() dtype=float32, numpy=0.6998755> temperature\n"
     ]
    },
    {
     "name": "stderr",
     "output_type": "stream",
     "text": [
      "\r",
      " 38%|███▊      | 15/40 [08:12<14:12, 34.11s/it]"
     ]
    },
    {
     "name": "stdout",
     "output_type": "stream",
     "text": [
      "tracking <tf.Variable 'temperature:0' shape=() dtype=float32, numpy=0.6023884> temperature\n"
     ]
    },
    {
     "name": "stderr",
     "output_type": "stream",
     "text": [
      "\r",
      " 40%|████      | 16/40 [08:52<14:21, 35.91s/it]"
     ]
    },
    {
     "name": "stdout",
     "output_type": "stream",
     "text": [
      "tracking <tf.Variable 'temperature:0' shape=() dtype=float32, numpy=0.5133215> temperature\n"
     ]
    },
    {
     "name": "stderr",
     "output_type": "stream",
     "text": [
      "\r",
      " 42%|████▎     | 17/40 [09:29<13:51, 36.15s/it]"
     ]
    },
    {
     "name": "stdout",
     "output_type": "stream",
     "text": [
      "tracking <tf.Variable 'temperature:0' shape=() dtype=float32, numpy=0.43307132> temperature\n"
     ]
    },
    {
     "name": "stderr",
     "output_type": "stream",
     "text": [
      "\r",
      " 45%|████▌     | 18/40 [10:09<13:41, 37.33s/it]"
     ]
    },
    {
     "name": "stdout",
     "output_type": "stream",
     "text": [
      "tracking <tf.Variable 'temperature:0' shape=() dtype=float32, numpy=0.36173156> temperature\n"
     ]
    },
    {
     "name": "stderr",
     "output_type": "stream",
     "text": [
      "\r",
      " 48%|████▊     | 19/40 [10:43<12:45, 36.45s/it]"
     ]
    },
    {
     "name": "stdout",
     "output_type": "stream",
     "text": [
      "tracking <tf.Variable 'temperature:0' shape=() dtype=float32, numpy=0.2991372> temperature\n"
     ]
    },
    {
     "name": "stderr",
     "output_type": "stream",
     "text": [
      "\r",
      " 50%|█████     | 20/40 [11:53<15:27, 46.39s/it]"
     ]
    },
    {
     "name": "stdout",
     "output_type": "stream",
     "text": [
      "tracking <tf.Variable 'temperature:0' shape=() dtype=float32, numpy=0.24491283> temperature\n"
     ]
    },
    {
     "name": "stderr",
     "output_type": "stream",
     "text": [
      "\r",
      " 52%|█████▎    | 21/40 [12:37<14:28, 45.72s/it]"
     ]
    },
    {
     "name": "stdout",
     "output_type": "stream",
     "text": [
      "tracking <tf.Variable 'temperature:0' shape=() dtype=float32, numpy=0.19852248> temperature\n"
     ]
    },
    {
     "name": "stderr",
     "output_type": "stream",
     "text": [
      "\r",
      " 55%|█████▌    | 22/40 [13:09<12:28, 41.57s/it]"
     ]
    },
    {
     "name": "stdout",
     "output_type": "stream",
     "text": [
      "tracking <tf.Variable 'temperature:0' shape=() dtype=float32, numpy=0.15931801> temperature\n"
     ]
    },
    {
     "name": "stderr",
     "output_type": "stream",
     "text": [
      "\r",
      " 57%|█████▊    | 23/40 [13:42<11:04, 39.08s/it]"
     ]
    },
    {
     "name": "stdout",
     "output_type": "stream",
     "text": [
      "tracking <tf.Variable 'temperature:0' shape=() dtype=float32, numpy=0.12658352> temperature\n"
     ]
    },
    {
     "name": "stderr",
     "output_type": "stream",
     "text": [
      "\r",
      " 60%|██████    | 24/40 [14:15<09:53, 37.12s/it]"
     ]
    },
    {
     "name": "stdout",
     "output_type": "stream",
     "text": [
      "tracking <tf.Variable 'temperature:0' shape=() dtype=float32, numpy=0.1> temperature\n"
     ]
    },
    {
     "name": "stderr",
     "output_type": "stream",
     "text": [
      "\r",
      " 62%|██████▎   | 25/40 [14:46<08:49, 35.29s/it]"
     ]
    },
    {
     "name": "stdout",
     "output_type": "stream",
     "text": [
      "tracking <tf.Variable 'temperature:0' shape=() dtype=float32, numpy=0.1> temperature\n"
     ]
    },
    {
     "name": "stderr",
     "output_type": "stream",
     "text": [
      "\r",
      " 65%|██████▌   | 26/40 [15:19<08:05, 34.68s/it]"
     ]
    },
    {
     "name": "stdout",
     "output_type": "stream",
     "text": [
      "tracking <tf.Variable 'temperature:0' shape=() dtype=float32, numpy=0.1> temperature\n"
     ]
    },
    {
     "name": "stderr",
     "output_type": "stream",
     "text": [
      "\r",
      " 68%|██████▊   | 27/40 [15:52<07:23, 34.13s/it]"
     ]
    },
    {
     "name": "stdout",
     "output_type": "stream",
     "text": [
      "tracking <tf.Variable 'temperature:0' shape=() dtype=float32, numpy=0.1> temperature\n"
     ]
    },
    {
     "name": "stderr",
     "output_type": "stream",
     "text": [
      "\r",
      " 70%|███████   | 28/40 [16:24<06:43, 33.65s/it]"
     ]
    },
    {
     "name": "stdout",
     "output_type": "stream",
     "text": [
      "tracking <tf.Variable 'temperature:0' shape=() dtype=float32, numpy=0.1> temperature\n"
     ]
    },
    {
     "name": "stderr",
     "output_type": "stream",
     "text": [
      "\r",
      " 72%|███████▎  | 29/40 [17:04<06:31, 35.57s/it]"
     ]
    },
    {
     "name": "stdout",
     "output_type": "stream",
     "text": [
      "tracking <tf.Variable 'temperature:0' shape=() dtype=float32, numpy=0.1> temperature\n"
     ]
    },
    {
     "name": "stderr",
     "output_type": "stream",
     "text": [
      "\r",
      " 75%|███████▌  | 30/40 [17:47<06:17, 37.77s/it]"
     ]
    },
    {
     "name": "stdout",
     "output_type": "stream",
     "text": [
      "tracking <tf.Variable 'temperature:0' shape=() dtype=float32, numpy=0.1> temperature\n"
     ]
    },
    {
     "name": "stderr",
     "output_type": "stream",
     "text": [
      "\r",
      " 78%|███████▊  | 31/40 [18:24<05:37, 37.46s/it]"
     ]
    },
    {
     "name": "stdout",
     "output_type": "stream",
     "text": [
      "tracking <tf.Variable 'temperature:0' shape=() dtype=float32, numpy=0.1> temperature\n"
     ]
    },
    {
     "name": "stderr",
     "output_type": "stream",
     "text": [
      "\r",
      " 80%|████████  | 32/40 [18:59<04:54, 36.78s/it]"
     ]
    },
    {
     "name": "stdout",
     "output_type": "stream",
     "text": [
      "tracking <tf.Variable 'temperature:0' shape=() dtype=float32, numpy=0.1> temperature\n"
     ]
    },
    {
     "name": "stderr",
     "output_type": "stream",
     "text": [
      "\r",
      " 82%|████████▎ | 33/40 [19:35<04:14, 36.35s/it]"
     ]
    },
    {
     "name": "stdout",
     "output_type": "stream",
     "text": [
      "tracking <tf.Variable 'temperature:0' shape=() dtype=float32, numpy=0.1> temperature\n"
     ]
    },
    {
     "name": "stderr",
     "output_type": "stream",
     "text": [
      "\r",
      " 85%|████████▌ | 34/40 [20:10<03:36, 36.08s/it]"
     ]
    },
    {
     "name": "stdout",
     "output_type": "stream",
     "text": [
      "tracking <tf.Variable 'temperature:0' shape=() dtype=float32, numpy=0.1> temperature\n"
     ]
    },
    {
     "name": "stderr",
     "output_type": "stream",
     "text": [
      "\r",
      " 88%|████████▊ | 35/40 [20:46<03:00, 36.03s/it]"
     ]
    },
    {
     "name": "stdout",
     "output_type": "stream",
     "text": [
      "tracking <tf.Variable 'temperature:0' shape=() dtype=float32, numpy=0.1> temperature\n"
     ]
    },
    {
     "name": "stderr",
     "output_type": "stream",
     "text": [
      "\r",
      " 90%|█████████ | 36/40 [21:22<02:24, 36.10s/it]"
     ]
    },
    {
     "name": "stdout",
     "output_type": "stream",
     "text": [
      "tracking <tf.Variable 'temperature:0' shape=() dtype=float32, numpy=0.1> temperature\n"
     ]
    },
    {
     "name": "stderr",
     "output_type": "stream",
     "text": [
      "\r",
      " 92%|█████████▎| 37/40 [21:57<01:47, 35.69s/it]"
     ]
    },
    {
     "name": "stdout",
     "output_type": "stream",
     "text": [
      "tracking <tf.Variable 'temperature:0' shape=() dtype=float32, numpy=0.1> temperature\n"
     ]
    },
    {
     "name": "stderr",
     "output_type": "stream",
     "text": [
      "\r",
      " 95%|█████████▌| 38/40 [22:41<01:16, 38.20s/it]"
     ]
    },
    {
     "name": "stdout",
     "output_type": "stream",
     "text": [
      "tracking <tf.Variable 'temperature:0' shape=() dtype=float32, numpy=0.1> temperature\n"
     ]
    },
    {
     "name": "stderr",
     "output_type": "stream",
     "text": [
      "\r",
      " 98%|█████████▊| 39/40 [23:18<00:37, 37.97s/it]"
     ]
    },
    {
     "name": "stdout",
     "output_type": "stream",
     "text": [
      "tracking <tf.Variable 'temperature:0' shape=() dtype=float32, numpy=0.1> temperature\n"
     ]
    },
    {
     "name": "stderr",
     "output_type": "stream",
     "text": [
      "100%|██████████| 40/40 [23:56<00:00, 35.91s/it]\n"
     ]
    },
    {
     "data": {
      "text/plain": [
       "['../results/improvement_NegVal_Basic.joblib']"
      ]
     },
     "execution_count": 18,
     "metadata": {},
     "output_type": "execute_result"
    }
   ],
   "source": [
    "from keras.models import Model\n",
    "model = models[2]\n",
    "current_model_pos = {epoch: [] for epoch in range(40)} \n",
    "current_model_neg = {epoch: [] for epoch in range(40)}    \n",
    "for epoch in tqdm(range(40)):\n",
    "        AMPMaster = bms.load_model(f'../models/{model}/{epoch}')\n",
    "        encoder_model =  AMPMaster.encoder(input_to_encoder)\n",
    "        decoder_model = AMPMaster.decoder(input_to_decoder)\n",
    "        new_act = layers.TimeDistributed(\n",
    "            layers.Activation(activations.softmax),\n",
    "            name='decoder_time_distribute_activation')\n",
    "        decoder_model.layers.pop()\n",
    "        x = new_act(decoder_model.layers[-1].output)\n",
    "        decoder_model = Model(input=decoder_model.input, output=[x])            \n",
    "        current_model_pos[epoch] = improve(pos, model, epoch, 'pos')\n",
    "        current_model_neg[epoch] = improve(neg, model, epoch, 'neg')\n",
    "dump(current_model_pos, f'../results/improvement_PosVal_{model}.joblib') \n",
    "dump(current_model_neg, f'../results/improvement_NegVal_{model}.joblib') \n"
   ]
  },
  {
   "cell_type": "markdown",
   "metadata": {},
   "source": [
    "# Collect results"
   ]
  },
  {
   "cell_type": "code",
   "execution_count": 30,
   "metadata": {},
   "outputs": [],
   "source": [
    "pos_final_results =  {model: {epoch: \n",
    "                          {'absolute improvement':0,\n",
    "                           'relative improvement':0,\n",
    "                          } for epoch in range(40)} for model in models}\n",
    "neg_final_results = {model: {epoch: \n",
    "                          {'absolute improvement':0,\n",
    "                           'relative improvement':0,\n",
    "                          } for epoch in range(40)} for model in models}"
   ]
  },
  {
   "cell_type": "code",
   "execution_count": 31,
   "metadata": {},
   "outputs": [],
   "source": [
    "for model in models:\n",
    "    if model in ['PepCVAE', 'Basic']:\n",
    "        model_results = load(f'../results/improvement_PosVal_{model}.joblib')\n",
    "    else:\n",
    "        model_results = load(f'../results/improvement_PosVal_{model}.joblib')\n",
    "    for epoch in range(40):\n",
    "        pos_final_results[model][epoch]['relative improvement'] = np.unique(\n",
    "            model_results[epoch]['rel_improved'], axis=0).shape[0]\n",
    "        pos_final_results[model][epoch]['absolute improvement'] = np.unique(\n",
    "             model_results[epoch]['abs_improved'], axis=0).shape[0]\n",
    "        pos_final_results[model][epoch]['before relative improvement'] = np.unique(\n",
    "            model_results[epoch]['before_rel_improve'], axis=0).shape[0]\n",
    "        pos_final_results[model][epoch]['before absolute improvement'] = np.unique(\n",
    "            model_results[epoch]['before_abs_improve'], axis=0).shape[0]\n",
    "        \n",
    "        "
   ]
  },
  {
   "cell_type": "code",
   "execution_count": 32,
   "metadata": {},
   "outputs": [],
   "source": [
    "for model in models:\n",
    "    if model in ['PepCVAE', 'Basic']:\n",
    "        model_results = load(f'../results/improvement_NegVal_{model}.joblib')\n",
    "    else:\n",
    "        model_results = load(f'../results/improvement_NegVal_{model}.joblib')\n",
    "    for epoch in range(40):\n",
    "            neg_final_results[model][epoch]['relative improvement'] = np.unique(\n",
    "                model_results[epoch]['rel_improved'], axis=0).shape[0]\n",
    "            neg_final_results[model][epoch]['absolute improvement'] = np.unique(\n",
    "                model_results[epoch]['abs_improved'], axis=0).shape[0]\n",
    "            neg_final_results[model][epoch]['before relative improvement'] = np.unique(\n",
    "                model_results[epoch]['before_rel_improve'], axis=0).shape[0]\n",
    "            neg_final_results[model][epoch]['before absolute improvement'] = np.unique(\n",
    "                model_results[epoch]['before_abs_improve'], axis=0).shape[0]"
   ]
  },
  {
   "cell_type": "code",
   "execution_count": 33,
   "metadata": {},
   "outputs": [],
   "source": [
    "hydra_metrics = pd.read_csv('../models/HydrAMP/metrics.csv')\n",
    "pepcvae_metrics = pd.read_csv('../models/PepCVAE/metrics.csv')\n",
    "basic_metrics = pd.read_csv('../models/Basic/metrics.csv')\n"
   ]
  },
  {
   "cell_type": "code",
   "execution_count": 34,
   "metadata": {
    "scrolled": false
   },
   "outputs": [
    {
     "data": {
      "image/png": "[encoded data removed]",
      "text/plain": [
       "<Figure size 432x288 with 1 Axes>"
      ]
     },
     "metadata": {},
     "output_type": "display_data"
    }
   ],
   "source": [
    "plt.title('Relative improved')\n",
    "plt.plot([pos_final_results[models[0]][epoch]['relative improvement']  for epoch in range(10, 40)], c='red', label='HydrAMP')\n",
    "plt.plot([pos_final_results[models[1]][epoch]['relative improvement'] for epoch in range(10, 40)], c='orange', label='PepCVAE')\n",
    "plt.plot([pos_final_results[models[2]][epoch]['relative improvement'] for epoch in range(10, 40)], c='blue', label='Basic')\n",
    "\n",
    "plt.legend(bbox_to_anchor=(1.1, 0.5))\n",
    "plt.show()"
   ]
  },
  {
   "cell_type": "code",
   "execution_count": 35,
   "metadata": {},
   "outputs": [
    {
     "data": {
      "image/png": "[encoded data removed]",
      "text/plain": [
       "<Figure size 432x288 with 1 Axes>"
      ]
     },
     "metadata": {},
     "output_type": "display_data"
    }
   ],
   "source": [
    "plt.title('Absolute improved')\n",
    "plt.plot([pos_final_results[models[0]][epoch]['absolute improvement']  for epoch in range(10, 40)], c='red', label='HydrAMP')\n",
    "plt.plot([pos_final_results[models[1]][epoch]['absolute improvement'] for epoch in range(10, 40)], c='orange', label='PepCVAE')\n",
    "plt.plot([pos_final_results[models[2]][epoch]['absolute improvement'] for epoch in range(10, 40)], c='blue', label='Basic')\n",
    "\n",
    "plt.legend(bbox_to_anchor=(1.1, 0.5))\n",
    "plt.show()"
   ]
  },
  {
   "cell_type": "code",
   "execution_count": 36,
   "metadata": {},
   "outputs": [
    {
     "data": {
      "image/png": "[encoded data removed]",
      "text/plain": [
       "<Figure size 720x360 with 1 Axes>"
      ]
     },
     "metadata": {},
     "output_type": "display_data"
    }
   ],
   "source": [
    "plt.figure(figsize=(10,5))\n",
    "plt.plot([float(x) for x in hydra_metrics['val_vae_loss_1__amino_acc'].tolist()[10:40]],\n",
    "         c='red', label='HydrAMP', linestyle='--')\n",
    "plt.plot([float(x) for x in pepcvae_metrics['val_vae_loss_1__amino_acc'].tolist()[10:40]],\n",
    "         c='orange', label='PepCVAE', linestyle='--')\n",
    "plt.plot([float(x) for x in basic_metrics['val_vae_loss_1__amino_acc'].tolist()[10:40]],\n",
    "         c='blue', label='Basic', linestyle='--')\n",
    "\n",
    "\n",
    "\n",
    "plt.title('How many petides were susceptible to (relative) improvement out of 2404 known AMPs? ')\n",
    "plt.plot([pos_final_results[models[0]][epoch]['before relative improvement']/2404 for epoch in range(10, 40)], c='red')\n",
    "plt.plot([pos_final_results[models[1]][epoch]['before relative improvement']/2404 for epoch in range(10, 40)], c='orange')\n",
    "plt.plot([pos_final_results[models[2]][epoch]['before relative improvement']/2404 for epoch in range(10, 40)], c='blue')\n",
    "\n",
    "plt.legend(bbox_to_anchor=(1.1, 0.5))\n",
    "plt.show()"
   ]
  },
  {
   "cell_type": "code",
   "execution_count": 37,
   "metadata": {},
   "outputs": [
    {
     "data": {
      "image/png": "[encoded data removed]",
      "text/plain": [
       "<Figure size 720x360 with 1 Axes>"
      ]
     },
     "metadata": {},
     "output_type": "display_data"
    }
   ],
   "source": [
    "plt.figure(figsize=(10,5))\n",
    "plt.plot([float(x) for x in hydra_metrics['val_vae_loss_1__amino_acc'].tolist()[10:40]],\n",
    "         c='red', label='HydrAMP', linestyle='--')\n",
    "plt.plot([float(x) for x in pepcvae_metrics['val_vae_loss_1__amino_acc'].tolist()[10:40]],\n",
    "         c='orange', label='PepCVAE', linestyle='--')\n",
    "plt.plot([float(x) for x in basic_metrics['val_vae_loss_1__amino_acc'].tolist()[10:40]],\n",
    "         c='blue', label='Basic', linestyle='--')\n",
    "\n",
    "\n",
    "plt.title('How many petides were susceptible to (absolute) improvement out of 2404 known AMPs? ')\n",
    "plt.plot([pos_final_results[models[0]][epoch]['before absolute improvement']/2404 for epoch in range(10, 40)], c='red')\n",
    "plt.plot([pos_final_results[models[1]][epoch]['before absolute improvement']/2404 for epoch in range(10, 40)], c='orange')\n",
    "plt.plot([pos_final_results[models[2]][epoch]['before absolute improvement']/2404 for epoch in range(10, 40)], c='blue')\n",
    "\n",
    "plt.legend(bbox_to_anchor=(1.1, 0.5))\n",
    "plt.show()"
   ]
  },
  {
   "cell_type": "markdown",
   "metadata": {},
   "source": [
    "# Model selection"
   ]
  },
  {
   "cell_type": "code",
   "execution_count": 38,
   "metadata": {},
   "outputs": [],
   "source": [
    "def choose_best_epoch(model):\n",
    "    model_metrics = pd.read_csv(f'../models/{model}/metrics.csv')\n",
    "    good_epochs = model_metrics.iloc[10:40][model_metrics['val_vae_loss_1__amino_acc'].astype(float)  > 0.95].epoch_no.tolist()\n",
    "    improved_peptides = [pos_final_results[model][epoch]['before relative improvement']/2404 + \\\n",
    "                         neg_final_results[model][epoch]['before absolute improvement']/2223 \\\n",
    "                         for epoch in good_epochs]\n",
    "    return good_epochs[np.argmax(improved_peptides)], np.max(improved_peptides)  "
   ]
  },
  {
   "cell_type": "code",
   "execution_count": 39,
   "metadata": {},
   "outputs": [],
   "source": [
    "best_epochs = {model: [] for model in models}\n",
    "\n",
    "for model in models:\n",
    "    best_epochs[model] = choose_best_epoch(model)\n"
   ]
  },
  {
   "cell_type": "code",
   "execution_count": 40,
   "metadata": {
    "scrolled": true
   },
   "outputs": [
    {
     "data": {
      "text/plain": [
       "{'HydrAMP': (37, 0.27691327170265784),\n",
       " 'PepCVAE': (35, 0.07166381117690339),\n",
       " 'Basic': (15, 0.06781844324536329)}"
      ]
     },
     "execution_count": 40,
     "metadata": {},
     "output_type": "execute_result"
    }
   ],
   "source": [
    "best_epochs"
   ]
  },
  {
   "cell_type": "code",
   "execution_count": 41,
   "metadata": {},
   "outputs": [
    {
     "data": {
      "image/png": "[encoded data removed]",
      "text/plain": [
       "<Figure size 432x288 with 1 Axes>"
      ]
     },
     "metadata": {},
     "output_type": "display_data"
    }
   ],
   "source": [
    "ax = sns.barplot(\n",
    "    x=model_labels,\n",
    "    y=[\n",
    "        pos_final_results[model][int(best_epochs[model][0])]['before relative improvement']/2404 + \\\n",
    "        neg_final_results[model][int(best_epochs[model][0])]['before absolute improvement']/2223 \\\n",
    "        for model in models\n",
    "    ]\n",
    ")\n",
    "\n",
    "ax.set_title('VALIDATION SET\\n % of relatively improved positives + % of absolutely improved negatives')\n",
    "ax.set_xticklabels(model_labels, rotation=90)\n",
    "plt.show()\n",
    "    "
   ]
  },
  {
   "cell_type": "code",
   "execution_count": 24,
   "metadata": {},
   "outputs": [],
   "source": [
    "\n",
    "\n",
    "metrics_to_consider = [\n",
    "    'before relative improvement',\n",
    "    'before absolute improvement',\n",
    "    'relative improvement',\n",
    "    'absolute improvement',\n",
    "]\n",
    "\n",
    "metrics_labels = [\n",
    "    'How many petides were susceptible to (relative) improvement?',\n",
    "    'How many petides were susceptible to (absolute) improvement?',\n",
    "    'Number of uniquely generated peptides during relative improvement procedure (64 attempts per peptide)',\n",
    "    'Number of uniquely generated peptides during absolute improvement procedure (64 attempts per peptide)',\n",
    "]"
   ]
  },
  {
   "cell_type": "code",
   "execution_count": 43,
   "metadata": {
    "scrolled": false
   },
   "outputs": [
    {
     "data": {
      "image/png": "[encoded data removed]",
      "text/plain": [
       "<Figure size 864x288 with 2 Axes>"
      ]
     },
     "metadata": {},
     "output_type": "display_data"
    },
    {
     "data": {
      "image/png": "[encoded data removed]",
      "text/plain": [
       "<Figure size 864x288 with 2 Axes>"
      ]
     },
     "metadata": {},
     "output_type": "display_data"
    },
    {
     "data": {
      "image/png": "[encoded data removed]",
      "text/plain": [
       "<Figure size 864x288 with 2 Axes>"
      ]
     },
     "metadata": {},
     "output_type": "display_data"
    },
    {
     "data": {
      "image/png": "[encoded data removed]",
      "text/plain": [
       "<Figure size 864x288 with 2 Axes>"
      ]
     },
     "metadata": {},
     "output_type": "display_data"
    }
   ],
   "source": [
    "for metric, metric_label in zip(metrics_to_consider, metrics_labels):    \n",
    "    fig, (ax1, ax2) = plt.subplots(nrows=1, ncols=2, figsize=(12, 4), sharex=True)\n",
    "    plt.suptitle(metric_label, y=1.1)\n",
    "    sns.barplot(x=model_labels, y=[pos_final_results[model][int(best_epochs[model][0])][metric] for model in models], ax=ax1)\n",
    "    sns.barplot(x=model_labels, y=[neg_final_results[model][int(best_epochs[model][0])][metric] for model in models], ax=ax2)\n",
    "\n",
    "    ax1.set_title('2404 positives (validation set)')\n",
    "    ax2.set_title('2223 negatives (validation set)')\n",
    "    ax1.set_xticklabels(model_labels, rotation=90)\n",
    "    ax2.set_xticklabels(model_labels, rotation=90)\n",
    "    plt.show()\n",
    "    "
   ]
  },
  {
   "cell_type": "markdown",
   "metadata": {},
   "source": [
    "# Test set "
   ]
  },
  {
   "cell_type": "code",
   "execution_count": 16,
   "metadata": {},
   "outputs": [],
   "source": [
    "best_epochs = {\n",
    "    'HydrAMP': 37,\n",
    "    'PepCVAE': 35,\n",
    "    'Basic': 15,\n",
    "}"
   ]
  },
  {
   "cell_type": "code",
   "execution_count": 17,
   "metadata": {},
   "outputs": [
    {
     "name": "stdout",
     "output_type": "stream",
     "text": [
      "(1319, 25) (1253, 25)\n",
      "1319/1319 [==============================] - 0s 159us/step\n",
      "1253/1253 [==============================] - 0s 48us/step\n",
      "1253/1253 [==============================] - 0s 165us/step\n",
      "1319/1319 [==============================] - 0s 169us/step\n"
     ]
    }
   ],
   "source": [
    "pos = np.vstack([amp_x_test[amp_y_test == 1], mic_x_test[mic_y_test < 1.5]])\n",
    "neg = np.vstack([amp_x_test[amp_y_test == 0], mic_x_test[mic_y_test > 1.5]])\n",
    "\n",
    "print(pos.shape, neg.shape)\n",
    "\n",
    "pos_amp = amp_classifier_model.predict(pos, verbose=1).reshape(len(pos))\n",
    "neg_mic = mic_classifier_model.predict(neg, verbose=1).reshape(len(neg))\n",
    "neg_amp = amp_classifier_model.predict(neg, verbose=1).reshape(len(neg))\n",
    "pos_mic = amp_classifier_model.predict(pos, verbose=1).reshape(len(pos))\n",
    "\n",
    "pos = np.vstack([pos] * 64).reshape(-1, 25)\n",
    "pos_amp = np.vstack([pos_amp] * 64).reshape(-1, 1)\n",
    "pos_mic = np.vstack([pos_mic] * 64).reshape(-1, 1)\n",
    "neg = np.vstack([neg] * 64).reshape(-1, 25)\n",
    "neg_amp = np.vstack([neg_amp] * 64).reshape(-1, 1)\n",
    "neg_mic = np.vstack([neg_mic] * 64).reshape(-1, 1)"
   ]
  },
  {
   "cell_type": "code",
   "execution_count": 18,
   "metadata": {},
   "outputs": [],
   "source": [
    "final_pos_results = {}\n",
    "final_neg_results = {}"
   ]
  },
  {
   "cell_type": "code",
   "execution_count": 19,
   "metadata": {},
   "outputs": [
    {
     "name": "stderr",
     "output_type": "stream",
     "text": [
      "\r",
      "  0%|          | 0/3 [00:00<?, ?it/s]"
     ]
    },
    {
     "name": "stdout",
     "output_type": "stream",
     "text": [
      "tracking <tf.Variable 'temperature:0' shape=() dtype=float32, numpy=0.1> temperature\n"
     ]
    },
    {
     "name": "stderr",
     "output_type": "stream",
     "text": [
      "\r",
      " 33%|███▎      | 1/3 [00:07<00:15,  7.71s/it]"
     ]
    },
    {
     "name": "stdout",
     "output_type": "stream",
     "text": [
      "tracking <tf.Variable 'temperature:0' shape=() dtype=float32, numpy=0.1> temperature\n"
     ]
    },
    {
     "name": "stderr",
     "output_type": "stream",
     "text": [
      "\r",
      " 67%|██████▋   | 2/3 [00:15<00:07,  7.74s/it]"
     ]
    },
    {
     "name": "stdout",
     "output_type": "stream",
     "text": [
      "tracking <tf.Variable 'temperature:0' shape=() dtype=float32, numpy=0.6023884> temperature\n"
     ]
    },
    {
     "name": "stderr",
     "output_type": "stream",
     "text": [
      "100%|██████████| 3/3 [00:23<00:00,  7.86s/it]\n"
     ]
    },
    {
     "data": {
      "text/plain": [
       "['../results/improvement_NegTest.joblib']"
      ]
     },
     "execution_count": 19,
     "metadata": {},
     "output_type": "execute_result"
    }
   ],
   "source": [
    "for model in tqdm(models):\n",
    "    epoch = int(best_epochs[model])\n",
    "    AMPMaster = bms.load_model(f'../models/{model}/{epoch}')\n",
    "    encoder_model =  AMPMaster.encoder(input_to_encoder)\n",
    "    decoder_model = AMPMaster.decoder(input_to_decoder)\n",
    "    if model in ['PepCVAE', 'Basic']:\n",
    "        new_act = layers.TimeDistributed(\n",
    "            layers.Activation(activations.softmax),\n",
    "            name='decoder_time_distribute_activation')\n",
    "        decoder_model.layers.pop()\n",
    "        x = new_act(decoder_model.layers[-1].output)\n",
    "        decoder_model = Model(input=decoder_model.input, output=[x]) \n",
    "    final_pos_results[model] = improve(pos, model, epoch, 'pos')\n",
    "    final_neg_results[model] = improve(neg, model, epoch, 'neg')\n",
    "    \n",
    "dump(final_pos_results, f'../results/improvement_PosTest.joblib') \n",
    "dump(final_neg_results, f'../results/improvement_NegTest.joblib') \n",
    "\n"
   ]
  },
  {
   "cell_type": "code",
   "execution_count": 20,
   "metadata": {},
   "outputs": [],
   "source": [
    "pos_final_results = {models: {} for models in models}\n",
    "neg_final_results = {models: {} for models in models}"
   ]
  },
  {
   "cell_type": "code",
   "execution_count": 21,
   "metadata": {},
   "outputs": [],
   "source": [
    "for model in models:\n",
    "        pos_final_results[model]['relative improvement'] = np.unique(\n",
    "            final_pos_results[model]['rel_improved'], axis=0).shape[0]\n",
    "        pos_final_results[model]['absolute improvement'] = np.unique(\n",
    "             final_pos_results[model]['abs_improved'], axis=0).shape[0]\n",
    "        pos_final_results[model]['before relative improvement'] = np.unique(\n",
    "            final_pos_results[model]['before_rel_improve'], axis=0).shape[0]\n",
    "        pos_final_results[model]['before absolute improvement'] = np.unique(\n",
    "            final_pos_results[model]['before_abs_improve'], axis=0).shape[0]\n",
    "        \n",
    "        neg_final_results[model]['relative improvement'] = np.unique(\n",
    "            final_neg_results[model]['rel_improved'], axis=0).shape[0]\n",
    "        neg_final_results[model]['absolute improvement'] = np.unique(\n",
    "             final_neg_results[model]['abs_improved'], axis=0).shape[0]\n",
    "        neg_final_results[model]['before relative improvement'] = np.unique(\n",
    "            final_neg_results[model]['before_rel_improve'], axis=0).shape[0]\n",
    "        neg_final_results[model]['before absolute improvement'] = np.unique(\n",
    "            final_neg_results[model]['before_abs_improve'], axis=0).shape[0]   "
   ]
  },
  {
   "cell_type": "code",
   "execution_count": 22,
   "metadata": {},
   "outputs": [
    {
     "data": {
      "image/png": "[encoded data removed]",
      "text/plain": [
       "<Figure size 432x288 with 1 Axes>"
      ]
     },
     "metadata": {},
     "output_type": "display_data"
    }
   ],
   "source": [
    "ax = sns.barplot(\n",
    "    x=model_labels,\n",
    "    y=[\n",
    "        pos_final_results[model]['before relative improvement']/1319 + \\\n",
    "        neg_final_results[model]['before absolute improvement']/1253 \\\n",
    "        for model in models])\n",
    "\n",
    "ax.set_title('Before relative improvement (positives) + before absolute improvement (negatives)')\n",
    "ax.set_xticklabels(model_labels, rotation=90)\n",
    "plt.show()\n",
    "    "
   ]
  },
  {
   "cell_type": "code",
   "execution_count": 25,
   "metadata": {
    "scrolled": false
   },
   "outputs": [
    {
     "data": {
      "image/png": "[encoded data removed]",
      "text/plain": [
       "<Figure size 864x288 with 2 Axes>"
      ]
     },
     "metadata": {},
     "output_type": "display_data"
    },
    {
     "data": {
      "image/png": "[encoded data removed]",
      "text/plain": [
       "<Figure size 864x288 with 2 Axes>"
      ]
     },
     "metadata": {},
     "output_type": "display_data"
    },
    {
     "data": {
      "image/png": "[encoded data removed]",
      "text/plain": [
       "<Figure size 864x288 with 2 Axes>"
      ]
     },
     "metadata": {},
     "output_type": "display_data"
    },
    {
     "data": {
      "image/png": "[encoded data removed]",
      "text/plain": [
       "<Figure size 864x288 with 2 Axes>"
      ]
     },
     "metadata": {},
     "output_type": "display_data"
    }
   ],
   "source": [
    "for metric, metric_label in zip(metrics_to_consider, metrics_labels):    \n",
    "    fig, (ax1, ax2) = plt.subplots(nrows=1, ncols=2, figsize=(12, 4), sharex=True)\n",
    "    plt.suptitle(metric_label, y=1.1)\n",
    "    sns.barplot(x=model_labels, y=[pos_final_results[model][metric] for model in models], ax=ax1)\n",
    "    sns.barplot(x=model_labels, y=[neg_final_results[model][metric] for model in models], ax=ax2)\n",
    "\n",
    "    ax1.set_title('1319 positives (test set)')\n",
    "    ax2.set_title('1253 negatives (test set)')\n",
    "    ax1.set_xticklabels(model_labels, rotation=90)\n",
    "    ax2.set_xticklabels(model_labels, rotation=90)\n",
    "    plt.show()\n",
    "    "
   ]
  },
  {
   "cell_type": "code",
   "execution_count": null,
   "metadata": {},
   "outputs": [],
   "source": []
  }
 ],
 "metadata": {
  "kernelspec": {
   "display_name": "Python 3",
   "language": "python",
   "name": "python3"
  },
  "language_info": {
   "codemirror_mode": {
    "name": "ipython",
    "version": 3
   },
   "file_extension": ".py",
   "mimetype": "text/x-python",
   "name": "python",
   "nbconvert_exporter": "python",
   "pygments_lexer": "ipython3",
   "version": "3.8.0"
  }
 },
 "nbformat": 4,
 "nbformat_minor": 4
}
