{
 "cells": [
  {
   "cell_type": "code",
   "execution_count": 1,
   "metadata": {},
   "outputs": [],
   "source": [
    "import tensorflow as tf\n",
    "config = tf.compat.v1.ConfigProto(\n",
    "    gpu_options = tf.compat.v1.GPUOptions(per_process_gpu_memory_fraction=0.8),\n",
    ")\n",
    "config.gpu_options.allow_growth = True\n",
    "session = tf.compat.v1.Session(config=config)\n",
    "tf.compat.v1.keras.backend.set_session(session)"
   ]
  },
  {
   "cell_type": "code",
   "execution_count": 2,
   "metadata": {},
   "outputs": [
    {
     "name": "stderr",
     "output_type": "stream",
     "text": [
      "Using TensorFlow backend.\n"
     ]
    }
   ],
   "source": [
    "import amp.data_utils.data_loader as data_loader\n",
    "import amp.data_utils.sequence as du_sequence\n",
    "import numpy as np\n",
    "import pandas as pd\n",
    "import sklearn\n",
    "from amp.config import pepcvae\n",
    "from amp.models.decoders import amp_expanded_decoder\n",
    "from amp.models.encoders import amp_expanded_encoder\n",
    "from amp.models.master import master\n",
    "from amp.utils import basic_model_serializer, callback, generator\n",
    "from keras import backend, layers\n",
    "from keras.optimizers import Adam\n",
    "from sklearn.model_selection import train_test_split\n"
   ]
  },
  {
   "cell_type": "code",
   "execution_count": 3,
   "metadata": {},
   "outputs": [],
   "source": [
    "config = tf.compat.v1.ConfigProto()\n",
    "config.gpu_options.allow_growth=True\n",
    "sess = tf.compat.v1.Session(config=config)"
   ]
  },
  {
   "cell_type": "code",
   "execution_count": 4,
   "metadata": {},
   "outputs": [],
   "source": [
    "seed = 7\n",
    "np.random.seed(seed)"
   ]
  },
  {
   "cell_type": "code",
   "execution_count": 5,
   "metadata": {},
   "outputs": [],
   "source": [
    "from amp.config import MIN_LENGTH, MAX_LENGTH, LATENT_DIM, MIN_KL, RCL_WEIGHT, HIDDEN_DIM, MAX_TEMPERATURE\n",
    "\n",
    "kl_weight = backend.variable(MIN_KL, name=\"kl_weight\")\n",
    "tau = backend.variable(MAX_TEMPERATURE, name=\"temperature\")"
   ]
  },
  {
   "cell_type": "markdown",
   "metadata": {},
   "source": [
    "# Import data"
   ]
  },
  {
   "cell_type": "code",
   "execution_count": 6,
   "metadata": {},
   "outputs": [
    {
     "name": "stderr",
     "output_type": "stream",
     "text": [
      "/home/pszymczak/amp/new-tf/lib/python3.8/site-packages/pandas/core/indexing.py:1596: SettingWithCopyWarning: \n",
      "A value is trying to be set on a copy of a slice from a DataFrame.\n",
      "Try using .loc[row_indexer,col_indexer] = value instead\n",
      "\n",
      "See the caveats in the documentation: https://pandas.pydata.org/pandas-docs/stable/user_guide/indexing.html#returning-a-view-versus-a-copy\n",
      "  self.obj[key] = _infer_fill_value(value)\n",
      "/home/pszymczak/amp/new-tf/lib/python3.8/site-packages/pandas/core/indexing.py:1763: SettingWithCopyWarning: \n",
      "A value is trying to be set on a copy of a slice from a DataFrame.\n",
      "Try using .loc[row_indexer,col_indexer] = value instead\n",
      "\n",
      "See the caveats in the documentation: https://pandas.pydata.org/pandas-docs/stable/user_guide/indexing.html#returning-a-view-versus-a-copy\n",
      "  isetter(loc, value)\n"
     ]
    }
   ],
   "source": [
    "data_manager = data_loader.AMPDataManager(\n",
    "    '../data/unlabelled_positive.csv',\n",
    "    '../data/unlabelled_negative.csv',\n",
    "    min_len=MIN_LENGTH,\n",
    "    max_len=MAX_LENGTH)\n",
    "\n",
    "amp_x, amp_y = data_manager.get_merged_data()\n",
    "amp_x_train, amp_x_test, amp_y_train, amp_y_test = train_test_split(amp_x, amp_y, test_size=0.1, random_state=36)\n",
    "amp_x_train, amp_x_val, amp_y_train, amp_y_val = train_test_split(amp_x_train, amp_y_train, test_size=0.2, random_state=36)"
   ]
  },
  {
   "cell_type": "code",
   "execution_count": 7,
   "metadata": {},
   "outputs": [],
   "source": [
    "# Restrict the length\n",
    "ecoli_df = pd.read_csv('../data/mic_data.csv')\n",
    "mask = (ecoli_df['sequence'].str.len() <= MAX_LENGTH) & (ecoli_df['sequence'].str.len() >= MIN_LENGTH)\n",
    "ecoli_df = ecoli_df.loc[mask]\n",
    "mic_x = du_sequence.pad(du_sequence.to_one_hot(ecoli_df['sequence']))\n",
    "mic_y = ecoli_df.value"
   ]
  },
  {
   "cell_type": "code",
   "execution_count": 8,
   "metadata": {},
   "outputs": [],
   "source": [
    "mic_x_train, mic_x_test, mic_y_train, mic_y_test = train_test_split(mic_x, mic_y, test_size=0.1, random_state=36)\n",
    "mic_x_train, mic_x_val, mic_y_train, mic_y_val = train_test_split(mic_x_train, mic_y_train, test_size=0.2, random_state=36)"
   ]
  },
  {
   "cell_type": "code",
   "execution_count": 9,
   "metadata": {},
   "outputs": [],
   "source": [
    "new_train = pd.DataFrame()\n",
    "new_train['value'] = list(mic_y_train)\n",
    "new_train['sequence'] = list(mic_x_train)\n",
    "active_peptides = new_train[new_train.value < 1.5]\n",
    "active_peptides  = pd.concat([active_peptides] * 25)\n",
    "new_train  = pd.concat([\n",
    "    new_train,\n",
    "    active_peptides,    \n",
    "])\n",
    "mic_x_train = np.array(list(new_train.sequence)).reshape(len(new_train), 25)\n",
    "mic_y_train = np.array(new_train.value).reshape(len(new_train),)"
   ]
  },
  {
   "cell_type": "markdown",
   "metadata": {},
   "source": [
    "# Import pretrained classifier and regressor"
   ]
  },
  {
   "cell_type": "code",
   "execution_count": 10,
   "metadata": {},
   "outputs": [],
   "source": [
    "bms = basic_model_serializer.BasicModelSerializer()\n",
    "amp_classifier = bms.load_model('../models/amp_classifier')\n",
    "amp_classifier_model = amp_classifier()\n",
    "mic_classifier = bms.load_model('../models/mic_classifier/')\n",
    "mic_classifier_model = mic_classifier() "
   ]
  },
  {
   "cell_type": "markdown",
   "metadata": {},
   "source": [
    "# Set up cVAE"
   ]
  },
  {
   "cell_type": "code",
   "execution_count": 11,
   "metadata": {},
   "outputs": [
    {
     "name": "stdout",
     "output_type": "stream",
     "text": [
      "tracking <tf.Variable 'temperature:0' shape=() dtype=float32, numpy=2.0> temperature\n"
     ]
    }
   ],
   "source": [
    "encoder = amp_expanded_encoder.AMPEncoderFactory.get_default(HIDDEN_DIM, LATENT_DIM, MAX_LENGTH)\n",
    "input_to_encoder = layers.Input(shape=(MAX_LENGTH,))\n",
    "encoder_model = encoder(input_to_encoder)\n",
    "decoder = amp_expanded_decoder.AMPDecoderFactory.build_default(LATENT_DIM + 2, tau, MAX_LENGTH)\n",
    "input_to_decoder = layers.Input(shape=(LATENT_DIM + 2,))\n",
    "decoder_model = decoder(input_to_decoder)"
   ]
  },
  {
   "cell_type": "code",
   "execution_count": 12,
   "metadata": {},
   "outputs": [],
   "source": [
    "master_model = master.MasterAMPTrainer(\n",
    "    amp_classifier=amp_classifier,\n",
    "    mic_classifier=mic_classifier,\n",
    "    encoder=encoder,\n",
    "    decoder=decoder,\n",
    "    kl_weight=kl_weight,\n",
    "    rcl_weight=RCL_WEIGHT, \n",
    "    master_optimizer=Adam(lr=1e-3),\n",
    "    loss_weights=pepcvae,\n",
    ")"
   ]
  },
  {
   "cell_type": "code",
   "execution_count": 13,
   "metadata": {
    "scrolled": false
   },
   "outputs": [
    {
     "name": "stdout",
     "output_type": "stream",
     "text": [
      "tracking <tf.Variable 'kl_weight:0' shape=() dtype=float32, numpy=1e-04> kl_weight\n",
      "Tensor(\"vae_loss_1/add_1:0\", shape=(None,), dtype=float32)\n"
     ]
    }
   ],
   "source": [
    "master_keras_model = master_model.build(input_shape=(MAX_LENGTH, 21))"
   ]
  },
  {
   "cell_type": "code",
   "execution_count": 14,
   "metadata": {},
   "outputs": [],
   "source": [
    "vae_callback = callback.VAECallback(\n",
    "    encoder=encoder_model,\n",
    "    decoder=decoder_model,\n",
    "    tau=tau,\n",
    "    kl_weight=kl_weight,\n",
    "    amp_classifier=amp_classifier_model,\n",
    "    mic_classifier=mic_classifier_model,\n",
    ")\n",
    "\n",
    "\n",
    "sm_callback = callback.SaveModelCallback(\n",
    "    model = master_model,\n",
    "    model_save_path=\"../models/final_models/\",\n",
    "    name=\"PepCVAE\")"
   ]
  },
  {
   "cell_type": "code",
   "execution_count": 15,
   "metadata": {},
   "outputs": [
    {
     "name": "stdout",
     "output_type": "stream",
     "text": [
      "16028/16028 [==============================] - 0s 11us/step\n",
      "16028/16028 [==============================] - 0s 15us/step\n",
      "4007/4007 [==============================] - 0s 2us/step\n",
      "4007/4007 [==============================] - 0s 14us/step\n",
      "40904/40904 [==============================] - 0s 2us/step\n",
      "40904/40904 [==============================] - 0s 5us/step\n",
      "620/620 [==============================] - 0s 8us/step\n",
      "620/620 [==============================] - 0s 83us/step\n",
      "180194/180194 [==============================] - 0s 2us/step\n",
      "180194/180194 [==============================] - 0s 1us/step\n",
      "22524/22524 [==============================] - 0s 2us/step\n",
      "22524/22524 [==============================] - 0s 2us/step\n"
     ]
    }
   ],
   "source": [
    "#DATASET_AMP/MIC_TRAIN/VAL\n",
    "\n",
    "amp_amp_train = amp_classifier_model.predict(amp_x_train, verbose=1, batch_size=10000).reshape(len(amp_x_train))\n",
    "amp_mic_train = mic_classifier_model.predict(amp_x_train, verbose=1, batch_size=10000).reshape(len(amp_x_train))\n",
    "amp_amp_val = amp_classifier_model.predict(amp_x_val, verbose=1, batch_size=10000).reshape(len(amp_x_val))\n",
    "amp_mic_val = mic_classifier_model.predict(amp_x_val, verbose=1, batch_size=10000).reshape(len(amp_x_val))\n",
    "\n",
    "mic_amp_train = amp_classifier_model.predict(mic_x_train, verbose=1, batch_size=10000).reshape(len(mic_x_train))\n",
    "mic_mic_train = mic_classifier_model.predict(mic_x_train, verbose=1, batch_size=10000).reshape(len(mic_x_train))\n",
    "mic_amp_val = amp_classifier_model.predict(mic_x_val, verbose=1, batch_size=10000).reshape(len(mic_x_val))\n",
    "mic_mic_val = mic_classifier_model.predict(mic_x_val, verbose=1, batch_size=10000).reshape(len(mic_x_val))\n",
    "\n",
    "uniprot_x_train = np.array(du_sequence.pad(du_sequence.to_one_hot(pd.read_csv('../data/Uniprot_0_25_train.csv').Sequence)))\n",
    "uniprot_x_val = np.array(du_sequence.pad(du_sequence.to_one_hot(pd.read_csv('../data/Uniprot_0_25_val.csv').Sequence)))\n",
    "\n",
    "uniprot_amp_train = amp_classifier_model.predict(uniprot_x_train, verbose=1, batch_size=10000).reshape(len(uniprot_x_train))\n",
    "uniprot_mic_train = mic_classifier_model.predict(uniprot_x_train, verbose=1, batch_size=10000).reshape(len(uniprot_x_train))\n",
    "uniprot_amp_val = amp_classifier_model.predict(uniprot_x_val, verbose=1, batch_size=10000).reshape(len(uniprot_x_val))\n",
    "uniprot_mic_val = mic_classifier_model.predict(uniprot_x_val, verbose=1, batch_size=10000).reshape(len(uniprot_x_val))\n"
   ]
  },
  {
   "cell_type": "code",
   "execution_count": 16,
   "metadata": {},
   "outputs": [],
   "source": [
    "training_generator = generator.concatenated_generator(\n",
    "    uniprot_x_train,\n",
    "    uniprot_amp_train,\n",
    "    uniprot_mic_train,\n",
    "    amp_x_train,\n",
    "    amp_amp_train,\n",
    "    amp_mic_train,\n",
    "    mic_x_train,\n",
    "    mic_amp_train,\n",
    "    mic_mic_train,\n",
    "    128\n",
    ")\n",
    "validation_generator = generator.concatenated_generator(\n",
    "    uniprot_x_val,\n",
    "    uniprot_amp_val,\n",
    "    uniprot_mic_val,\n",
    "    amp_x_val,\n",
    "    amp_amp_val,\n",
    "    amp_mic_val,\n",
    "    mic_x_val,\n",
    "    mic_amp_val,\n",
    "    mic_mic_val,\n",
    "    128\n",
    ")"
   ]
  },
  {
   "cell_type": "code",
   "execution_count": null,
   "metadata": {},
   "outputs": [
    {
     "name": "stderr",
     "output_type": "stream",
     "text": [
      "/home/pszymczak/amp/new-tf/lib/python3.8/site-packages/tensorflow/python/framework/indexed_slices.py:433: UserWarning: Converting sparse IndexedSlices to a dense Tensor of unknown shape. This may consume a large amount of memory.\n",
      "  warnings.warn(\n"
     ]
    },
    {
     "name": "stdout",
     "output_type": "stream",
     "text": [
      "Epoch 1/30\n"
     ]
    }
   ],
   "source": [
    "history = master_keras_model.fit_generator(\n",
    "    training_generator,\n",
    "    steps_per_epoch=1408,\n",
    "    epochs=60,\n",
    "    validation_data=validation_generator,\n",
    "    validation_steps=176,\n",
    "    callbacks=[vae_callback, sm_callback],\n",
    ")\n"
   ]
  },
  {
   "cell_type": "code",
   "execution_count": null,
   "metadata": {},
   "outputs": [],
   "source": []
  }
 ],
 "metadata": {
  "kernelspec": {
   "display_name": "Python 3",
   "language": "python",
   "name": "python3"
  },
  "language_info": {
   "codemirror_mode": {
    "name": "ipython",
    "version": 3
   },
   "file_extension": ".py",
   "mimetype": "text/x-python",
   "name": "python",
   "nbconvert_exporter": "python",
   "pygments_lexer": "ipython3",
   "version": "3.8.5"
  }
 },
 "nbformat": 4,
 "nbformat_minor": 4
}
