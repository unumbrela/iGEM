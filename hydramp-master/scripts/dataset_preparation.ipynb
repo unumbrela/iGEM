{
 "cells": [
  {
   "cell_type": "markdown",
   "metadata": {},
   "source": [
    "# 0. Create directory structure"
   ]
  },
  {
   "cell_type": "code",
   "execution_count": 11,
   "metadata": {},
   "outputs": [
    {
     "name": "stderr",
     "output_type": "stream",
     "text": [
      "'pwd' is not recognized as an internal or external command,\n",
      "operable program or batch file.\n"
     ]
    }
   ],
   "source": [
    "!pwd"
   ]
  },
  {
   "cell_type": "code",
   "execution_count": 5,
   "metadata": {},
   "outputs": [],
   "source": [
    "import os\n",
    "\n",
    "folders = ['external', 'interim', 'processed', 'raw']\n",
    "for folder in folders:\n",
    "    try:\n",
    "        os.makedirs(f'../data/{folder}')\n",
    "    except:\n",
    "        pass"
   ]
  },
  {
   "cell_type": "markdown",
   "metadata": {},
   "source": [
    "For our purposes we are going to need 4 different subsets:\n",
    "\n",
    "1. All available peptide sequences - **all peptides** \n",
    "2. Peptides with experimentally proven antimicrovial activity - **unlabelled positive dataset**\n",
    "3. Peptides from Uniprot marked as lacking antimicrobial activity - **unlabelled negative dataset**\n",
    "4. Peptides with experimentally proven antimicrobial activity with **measured MIC values**."
   ]
  },
  {
   "cell_type": "markdown",
   "metadata": {},
   "source": [
    "# 1. All peptides"
   ]
  },
  {
   "cell_type": "markdown",
   "metadata": {},
   "source": [
    "## 1.1. Downloading the sequences from TrEMBL\n",
    "\n",
    "The peptides are downloaded from The Uniprot Knowledgebase TrEMBL. **TrEMBL** consists of computationally analysed records awaiting full manual annotation, accounting to ~180,000,000 entries (*as for 01.04.2020*). \n",
    "\n",
    "Because AMPs are rarely longer than 200 peptides only sequences longer than 200 amino acids and consisting of standard amino acids were downloaded to *Uniprot_0_200.csv*, resulting in **60,112,952** sequences."
   ]
  },
  {
   "cell_type": "code",
   "execution_count": 3,
   "metadata": {},
   "outputs": [],
   "source": [
    "import pandas as pd\n",
    "import matplotlib.pyplot as plt\n",
    "import seaborn as sns\n",
    "sns.set(color_codes=True)\n",
    "\n",
    "from amp.data_utils import sequence\n",
    "from amp.data_utils import download\n",
    "from amp.data_utils import csv as amp_csv\n",
    "from amp.data_utils import fasta\n",
    "from amp.config import MIN_LENGTH, MAX_LENGTH\n",
    "\n",
    "TREMBL = \"ftp://ftp.ebi.ac.uk/pub/databases/uniprot/knowledgebase/uniprot_trembl.fasta.gz\""
   ]
  },
  {
   "cell_type": "code",
   "execution_count": 6,
   "metadata": {},
   "outputs": [
    {
     "ename": "KeyboardInterrupt",
     "evalue": "",
     "output_type": "error",
     "traceback": [
      "\u001b[1;31m---------------------------------------------------------------------------\u001b[0m",
      "\u001b[1;31mKeyboardInterrupt\u001b[0m                         Traceback (most recent call last)",
      "\u001b[1;32m<ipython-input-6-006f6f54e4c3>\u001b[0m in \u001b[0;36m<module>\u001b[1;34m\u001b[0m\n\u001b[1;32m----> 1\u001b[1;33m download.download_uniprot(\n\u001b[0m\u001b[0;32m      2\u001b[0m     \u001b[0msource\u001b[0m\u001b[1;33m=\u001b[0m\u001b[0mTREMBL\u001b[0m\u001b[1;33m,\u001b[0m\u001b[1;33m\u001b[0m\u001b[1;33m\u001b[0m\u001b[0m\n\u001b[0;32m      3\u001b[0m     \u001b[0mmin_length\u001b[0m\u001b[1;33m=\u001b[0m\u001b[0mMIN_LENGTH\u001b[0m\u001b[1;33m,\u001b[0m\u001b[1;33m\u001b[0m\u001b[1;33m\u001b[0m\u001b[0m\n\u001b[0;32m      4\u001b[0m     \u001b[0mmax_length\u001b[0m\u001b[1;33m=\u001b[0m\u001b[0mMAX_LENGTH\u001b[0m\u001b[1;33m,\u001b[0m\u001b[1;33m\u001b[0m\u001b[1;33m\u001b[0m\u001b[0m\n\u001b[0;32m      5\u001b[0m     \u001b[0moutput\u001b[0m \u001b[1;33m=\u001b[0m \u001b[1;34mf'../data/raw/Uniprot_{MIN_LENGTH}_{MAX_LENGTH}.csv'\u001b[0m\u001b[1;33m,\u001b[0m\u001b[1;33m\u001b[0m\u001b[1;33m\u001b[0m\u001b[0m\n",
      "\u001b[1;32mc:\\users\\tom\\miniconda3\\envs\\amp\\lib\\site-packages\\amp\\data_utils\\download.py\u001b[0m in \u001b[0;36mdownload_uniprot\u001b[1;34m(source, min_length, max_length, output)\u001b[0m\n\u001b[0;32m     25\u001b[0m             \u001b[1;32mwhile\u001b[0m \u001b[0mrecord\u001b[0m\u001b[1;33m:\u001b[0m\u001b[1;33m\u001b[0m\u001b[1;33m\u001b[0m\u001b[0m\n\u001b[0;32m     26\u001b[0m                 \u001b[1;32mtry\u001b[0m\u001b[1;33m:\u001b[0m\u001b[1;33m\u001b[0m\u001b[1;33m\u001b[0m\u001b[0m\n\u001b[1;32m---> 27\u001b[1;33m                     \u001b[0mrecord\u001b[0m \u001b[1;33m=\u001b[0m \u001b[0mnext\u001b[0m\u001b[1;33m(\u001b[0m\u001b[0mrecord_iter\u001b[0m\u001b[1;33m)\u001b[0m\u001b[1;33m\u001b[0m\u001b[1;33m\u001b[0m\u001b[0m\n\u001b[0m\u001b[0;32m     28\u001b[0m                 \u001b[1;32mexcept\u001b[0m \u001b[0mStopIteration\u001b[0m\u001b[1;33m:\u001b[0m\u001b[1;33m\u001b[0m\u001b[1;33m\u001b[0m\u001b[0m\n\u001b[0;32m     29\u001b[0m                     \u001b[0mrecord\u001b[0m \u001b[1;33m=\u001b[0m \u001b[1;32mNone\u001b[0m\u001b[1;33m\u001b[0m\u001b[1;33m\u001b[0m\u001b[0m\n",
      "\u001b[1;32mc:\\users\\tom\\miniconda3\\envs\\amp\\lib\\site-packages\\Bio\\SeqIO\\Interfaces.py\u001b[0m in \u001b[0;36m__next__\u001b[1;34m(self)\u001b[0m\n\u001b[0;32m     71\u001b[0m     \u001b[1;32mdef\u001b[0m \u001b[0m__next__\u001b[0m\u001b[1;33m(\u001b[0m\u001b[0mself\u001b[0m\u001b[1;33m)\u001b[0m\u001b[1;33m:\u001b[0m\u001b[1;33m\u001b[0m\u001b[1;33m\u001b[0m\u001b[0m\n\u001b[0;32m     72\u001b[0m         \u001b[1;32mtry\u001b[0m\u001b[1;33m:\u001b[0m\u001b[1;33m\u001b[0m\u001b[1;33m\u001b[0m\u001b[0m\n\u001b[1;32m---> 73\u001b[1;33m             \u001b[1;32mreturn\u001b[0m \u001b[0mnext\u001b[0m\u001b[1;33m(\u001b[0m\u001b[0mself\u001b[0m\u001b[1;33m.\u001b[0m\u001b[0mrecords\u001b[0m\u001b[1;33m)\u001b[0m\u001b[1;33m\u001b[0m\u001b[1;33m\u001b[0m\u001b[0m\n\u001b[0m\u001b[0;32m     74\u001b[0m         \u001b[1;32mexcept\u001b[0m \u001b[0mException\u001b[0m\u001b[1;33m:\u001b[0m\u001b[1;33m\u001b[0m\u001b[1;33m\u001b[0m\u001b[0m\n\u001b[0;32m     75\u001b[0m             \u001b[1;32mif\u001b[0m \u001b[0mself\u001b[0m\u001b[1;33m.\u001b[0m\u001b[0mshould_close_stream\u001b[0m\u001b[1;33m:\u001b[0m\u001b[1;33m\u001b[0m\u001b[1;33m\u001b[0m\u001b[0m\n",
      "\u001b[1;32mc:\\users\\tom\\miniconda3\\envs\\amp\\lib\\site-packages\\Bio\\SeqIO\\FastaIO.py\u001b[0m in \u001b[0;36miterate\u001b[1;34m(self, handle)\u001b[0m\n\u001b[0;32m    196\u001b[0m                 \u001b[1;32myield\u001b[0m \u001b[0mSeqRecord\u001b[0m\u001b[1;33m(\u001b[0m\u001b[0mSeq\u001b[0m\u001b[1;33m(\u001b[0m\u001b[0msequence\u001b[0m\u001b[1;33m)\u001b[0m\u001b[1;33m,\u001b[0m \u001b[0mid\u001b[0m\u001b[1;33m=\u001b[0m\u001b[0mid\u001b[0m\u001b[1;33m,\u001b[0m \u001b[0mname\u001b[0m\u001b[1;33m=\u001b[0m\u001b[0mname\u001b[0m\u001b[1;33m,\u001b[0m \u001b[0mdescription\u001b[0m\u001b[1;33m=\u001b[0m\u001b[0mdescr\u001b[0m\u001b[1;33m)\u001b[0m\u001b[1;33m\u001b[0m\u001b[1;33m\u001b[0m\u001b[0m\n\u001b[0;32m    197\u001b[0m         \u001b[1;32melse\u001b[0m\u001b[1;33m:\u001b[0m\u001b[1;33m\u001b[0m\u001b[1;33m\u001b[0m\u001b[0m\n\u001b[1;32m--> 198\u001b[1;33m             \u001b[1;32mfor\u001b[0m \u001b[0mtitle\u001b[0m\u001b[1;33m,\u001b[0m \u001b[0msequence\u001b[0m \u001b[1;32min\u001b[0m \u001b[0mSimpleFastaParser\u001b[0m\u001b[1;33m(\u001b[0m\u001b[0mhandle\u001b[0m\u001b[1;33m)\u001b[0m\u001b[1;33m:\u001b[0m\u001b[1;33m\u001b[0m\u001b[1;33m\u001b[0m\u001b[0m\n\u001b[0m\u001b[0;32m    199\u001b[0m                 \u001b[1;32mtry\u001b[0m\u001b[1;33m:\u001b[0m\u001b[1;33m\u001b[0m\u001b[1;33m\u001b[0m\u001b[0m\n\u001b[0;32m    200\u001b[0m                     \u001b[0mfirst_word\u001b[0m \u001b[1;33m=\u001b[0m \u001b[0mtitle\u001b[0m\u001b[1;33m.\u001b[0m\u001b[0msplit\u001b[0m\u001b[1;33m(\u001b[0m\u001b[1;32mNone\u001b[0m\u001b[1;33m,\u001b[0m \u001b[1;36m1\u001b[0m\u001b[1;33m)\u001b[0m\u001b[1;33m[\u001b[0m\u001b[1;36m0\u001b[0m\u001b[1;33m]\u001b[0m\u001b[1;33m\u001b[0m\u001b[1;33m\u001b[0m\u001b[0m\n",
      "\u001b[1;32mc:\\users\\tom\\miniconda3\\envs\\amp\\lib\\site-packages\\Bio\\SeqIO\\FastaIO.py\u001b[0m in \u001b[0;36mSimpleFastaParser\u001b[1;34m(handle)\u001b[0m\n\u001b[0;32m     58\u001b[0m     \u001b[1;31m# when not opened in universal read lines mode)\u001b[0m\u001b[1;33m\u001b[0m\u001b[1;33m\u001b[0m\u001b[1;33m\u001b[0m\u001b[0m\n\u001b[0;32m     59\u001b[0m     \u001b[0mlines\u001b[0m \u001b[1;33m=\u001b[0m \u001b[1;33m[\u001b[0m\u001b[1;33m]\u001b[0m\u001b[1;33m\u001b[0m\u001b[1;33m\u001b[0m\u001b[0m\n\u001b[1;32m---> 60\u001b[1;33m     \u001b[1;32mfor\u001b[0m \u001b[0mline\u001b[0m \u001b[1;32min\u001b[0m \u001b[0mhandle\u001b[0m\u001b[1;33m:\u001b[0m\u001b[1;33m\u001b[0m\u001b[1;33m\u001b[0m\u001b[0m\n\u001b[0m\u001b[0;32m     61\u001b[0m         \u001b[1;32mif\u001b[0m \u001b[0mline\u001b[0m\u001b[1;33m[\u001b[0m\u001b[1;36m0\u001b[0m\u001b[1;33m]\u001b[0m \u001b[1;33m==\u001b[0m \u001b[1;34m\">\"\u001b[0m\u001b[1;33m:\u001b[0m\u001b[1;33m\u001b[0m\u001b[1;33m\u001b[0m\u001b[0m\n\u001b[0;32m     62\u001b[0m             \u001b[1;32myield\u001b[0m \u001b[0mtitle\u001b[0m\u001b[1;33m,\u001b[0m \u001b[1;34m\"\"\u001b[0m\u001b[1;33m.\u001b[0m\u001b[0mjoin\u001b[0m\u001b[1;33m(\u001b[0m\u001b[0mlines\u001b[0m\u001b[1;33m)\u001b[0m\u001b[1;33m.\u001b[0m\u001b[0mreplace\u001b[0m\u001b[1;33m(\u001b[0m\u001b[1;34m\" \"\u001b[0m\u001b[1;33m,\u001b[0m \u001b[1;34m\"\"\u001b[0m\u001b[1;33m)\u001b[0m\u001b[1;33m.\u001b[0m\u001b[0mreplace\u001b[0m\u001b[1;33m(\u001b[0m\u001b[1;34m\"\\r\"\u001b[0m\u001b[1;33m,\u001b[0m \u001b[1;34m\"\"\u001b[0m\u001b[1;33m)\u001b[0m\u001b[1;33m\u001b[0m\u001b[1;33m\u001b[0m\u001b[0m\n",
      "\u001b[1;32mc:\\users\\tom\\miniconda3\\envs\\amp\\lib\\gzip.py\u001b[0m in \u001b[0;36mread1\u001b[1;34m(self, size)\u001b[0m\n\u001b[0;32m    297\u001b[0m         \u001b[1;32mif\u001b[0m \u001b[0msize\u001b[0m \u001b[1;33m<\u001b[0m \u001b[1;36m0\u001b[0m\u001b[1;33m:\u001b[0m\u001b[1;33m\u001b[0m\u001b[1;33m\u001b[0m\u001b[0m\n\u001b[0;32m    298\u001b[0m             \u001b[0msize\u001b[0m \u001b[1;33m=\u001b[0m \u001b[0mio\u001b[0m\u001b[1;33m.\u001b[0m\u001b[0mDEFAULT_BUFFER_SIZE\u001b[0m\u001b[1;33m\u001b[0m\u001b[1;33m\u001b[0m\u001b[0m\n\u001b[1;32m--> 299\u001b[1;33m         \u001b[1;32mreturn\u001b[0m \u001b[0mself\u001b[0m\u001b[1;33m.\u001b[0m\u001b[0m_buffer\u001b[0m\u001b[1;33m.\u001b[0m\u001b[0mread1\u001b[0m\u001b[1;33m(\u001b[0m\u001b[0msize\u001b[0m\u001b[1;33m)\u001b[0m\u001b[1;33m\u001b[0m\u001b[1;33m\u001b[0m\u001b[0m\n\u001b[0m\u001b[0;32m    300\u001b[0m \u001b[1;33m\u001b[0m\u001b[0m\n\u001b[0;32m    301\u001b[0m     \u001b[1;32mdef\u001b[0m \u001b[0mpeek\u001b[0m\u001b[1;33m(\u001b[0m\u001b[0mself\u001b[0m\u001b[1;33m,\u001b[0m \u001b[0mn\u001b[0m\u001b[1;33m)\u001b[0m\u001b[1;33m:\u001b[0m\u001b[1;33m\u001b[0m\u001b[1;33m\u001b[0m\u001b[0m\n",
      "\u001b[1;32mc:\\users\\tom\\miniconda3\\envs\\amp\\lib\\_compression.py\u001b[0m in \u001b[0;36mreadinto\u001b[1;34m(self, b)\u001b[0m\n\u001b[0;32m     66\u001b[0m     \u001b[1;32mdef\u001b[0m \u001b[0mreadinto\u001b[0m\u001b[1;33m(\u001b[0m\u001b[0mself\u001b[0m\u001b[1;33m,\u001b[0m \u001b[0mb\u001b[0m\u001b[1;33m)\u001b[0m\u001b[1;33m:\u001b[0m\u001b[1;33m\u001b[0m\u001b[1;33m\u001b[0m\u001b[0m\n\u001b[0;32m     67\u001b[0m         \u001b[1;32mwith\u001b[0m \u001b[0mmemoryview\u001b[0m\u001b[1;33m(\u001b[0m\u001b[0mb\u001b[0m\u001b[1;33m)\u001b[0m \u001b[1;32mas\u001b[0m \u001b[0mview\u001b[0m\u001b[1;33m,\u001b[0m \u001b[0mview\u001b[0m\u001b[1;33m.\u001b[0m\u001b[0mcast\u001b[0m\u001b[1;33m(\u001b[0m\u001b[1;34m\"B\"\u001b[0m\u001b[1;33m)\u001b[0m \u001b[1;32mas\u001b[0m \u001b[0mbyte_view\u001b[0m\u001b[1;33m:\u001b[0m\u001b[1;33m\u001b[0m\u001b[1;33m\u001b[0m\u001b[0m\n\u001b[1;32m---> 68\u001b[1;33m             \u001b[0mdata\u001b[0m \u001b[1;33m=\u001b[0m \u001b[0mself\u001b[0m\u001b[1;33m.\u001b[0m\u001b[0mread\u001b[0m\u001b[1;33m(\u001b[0m\u001b[0mlen\u001b[0m\u001b[1;33m(\u001b[0m\u001b[0mbyte_view\u001b[0m\u001b[1;33m)\u001b[0m\u001b[1;33m)\u001b[0m\u001b[1;33m\u001b[0m\u001b[1;33m\u001b[0m\u001b[0m\n\u001b[0m\u001b[0;32m     69\u001b[0m             \u001b[0mbyte_view\u001b[0m\u001b[1;33m[\u001b[0m\u001b[1;33m:\u001b[0m\u001b[0mlen\u001b[0m\u001b[1;33m(\u001b[0m\u001b[0mdata\u001b[0m\u001b[1;33m)\u001b[0m\u001b[1;33m]\u001b[0m \u001b[1;33m=\u001b[0m \u001b[0mdata\u001b[0m\u001b[1;33m\u001b[0m\u001b[1;33m\u001b[0m\u001b[0m\n\u001b[0;32m     70\u001b[0m         \u001b[1;32mreturn\u001b[0m \u001b[0mlen\u001b[0m\u001b[1;33m(\u001b[0m\u001b[0mdata\u001b[0m\u001b[1;33m)\u001b[0m\u001b[1;33m\u001b[0m\u001b[1;33m\u001b[0m\u001b[0m\n",
      "\u001b[1;32mc:\\users\\tom\\miniconda3\\envs\\amp\\lib\\gzip.py\u001b[0m in \u001b[0;36mread\u001b[1;34m(self, size)\u001b[0m\n\u001b[0;32m    479\u001b[0m             \u001b[0mbuf\u001b[0m \u001b[1;33m=\u001b[0m \u001b[0mself\u001b[0m\u001b[1;33m.\u001b[0m\u001b[0m_fp\u001b[0m\u001b[1;33m.\u001b[0m\u001b[0mread\u001b[0m\u001b[1;33m(\u001b[0m\u001b[0mio\u001b[0m\u001b[1;33m.\u001b[0m\u001b[0mDEFAULT_BUFFER_SIZE\u001b[0m\u001b[1;33m)\u001b[0m\u001b[1;33m\u001b[0m\u001b[1;33m\u001b[0m\u001b[0m\n\u001b[0;32m    480\u001b[0m \u001b[1;33m\u001b[0m\u001b[0m\n\u001b[1;32m--> 481\u001b[1;33m             \u001b[0muncompress\u001b[0m \u001b[1;33m=\u001b[0m \u001b[0mself\u001b[0m\u001b[1;33m.\u001b[0m\u001b[0m_decompressor\u001b[0m\u001b[1;33m.\u001b[0m\u001b[0mdecompress\u001b[0m\u001b[1;33m(\u001b[0m\u001b[0mbuf\u001b[0m\u001b[1;33m,\u001b[0m \u001b[0msize\u001b[0m\u001b[1;33m)\u001b[0m\u001b[1;33m\u001b[0m\u001b[1;33m\u001b[0m\u001b[0m\n\u001b[0m\u001b[0;32m    482\u001b[0m             \u001b[1;32mif\u001b[0m \u001b[0mself\u001b[0m\u001b[1;33m.\u001b[0m\u001b[0m_decompressor\u001b[0m\u001b[1;33m.\u001b[0m\u001b[0munconsumed_tail\u001b[0m \u001b[1;33m!=\u001b[0m \u001b[1;34mb\"\"\u001b[0m\u001b[1;33m:\u001b[0m\u001b[1;33m\u001b[0m\u001b[1;33m\u001b[0m\u001b[0m\n\u001b[0;32m    483\u001b[0m                 \u001b[0mself\u001b[0m\u001b[1;33m.\u001b[0m\u001b[0m_fp\u001b[0m\u001b[1;33m.\u001b[0m\u001b[0mprepend\u001b[0m\u001b[1;33m(\u001b[0m\u001b[0mself\u001b[0m\u001b[1;33m.\u001b[0m\u001b[0m_decompressor\u001b[0m\u001b[1;33m.\u001b[0m\u001b[0munconsumed_tail\u001b[0m\u001b[1;33m)\u001b[0m\u001b[1;33m\u001b[0m\u001b[1;33m\u001b[0m\u001b[0m\n",
      "\u001b[1;31mKeyboardInterrupt\u001b[0m: "
     ]
    }
   ],
   "source": [
    "download.download_uniprot(\n",
    "    source=TREMBL,\n",
    "    min_length=MIN_LENGTH,\n",
    "    max_length=MAX_LENGTH,\n",
    "    output = f'../data/raw/Uniprot_{MIN_LENGTH}_{MAX_LENGTH}.csv',\n",
    ")"
   ]
  },
  {
   "cell_type": "markdown",
   "metadata": {},
   "source": [
    "## 1.2. Duplicate removal \n",
    "\n",
    "The duplicate sequences were subsequently removed yielding **49,852,155 sequences**."
   ]
  },
  {
   "cell_type": "code",
   "execution_count": 1,
   "metadata": {},
   "outputs": [],
   "source": [
    "import hashlib\n",
    "import csv \n",
    "\n",
    "with open(\"../data/raw/Uniprot_0_200.csv\", \"r\") as csv_input, \\\n",
    "        open(\"../data/interim/Uniprot_0_200_no_duplicates.csv\", \"w\") as csv_output, \\\n",
    "        open(\"../data/interim/Uniprot_0_200_duplicates.csv\", \"w\") as csv_duplicates:\n",
    "    \n",
    "    seen = set()  \n",
    "    reader = csv.reader(csv_input)\n",
    "    writer = csv.writer(csv_output)\n",
    "    writer_duplicates = csv.writer(csv_duplicates)\n",
    "    writer.writerow(['Name', 'Sequence'])\n",
    "    for row in reader:  \n",
    "        seq_hash = hashlib.md5(row[1].encode()).digest()  # hash the sequence\n",
    "        if seq_hash not in seen: \n",
    "            seen.add(seq_hash)  \n",
    "            writer.writerow(row)\n",
    "        else:\n",
    "            writer_duplicates.writerow(row)"
   ]
  },
  {
   "cell_type": "markdown",
   "metadata": {},
   "source": [
    "## 1.3. Splitting into different lengths \n",
    "\n",
    "The main dataset consisting of sequences ranging from 1 to 200 in length was further splitted into 6 subsets varying in maximum sequence length: 15, 20, 25, 30, 50, or 100 amino acids."
   ]
  },
  {
   "cell_type": "code",
   "execution_count": 4,
   "metadata": {},
   "outputs": [],
   "source": [
    "max_lengths = [15, 20, 25, 30, 50, 100]\n",
    "amp_csv.get_various_lengths_csv(\n",
    "    max_lengths = max_lengths,\n",
    "    min_length = MIN_LENGTH,\n",
    "    input_path = f'../data/interim/Uniprot_{MIN_LENGTH}_{MAX_LENGTH}_no_duplicates.csv',\n",
    "    output_to = '../data/interim'\n",
    ")                "
   ]
  },
  {
   "cell_type": "markdown",
   "metadata": {},
   "source": [
    "## 1.4. Summary"
   ]
  },
  {
   "cell_type": "code",
   "execution_count": 1,
   "metadata": {},
   "outputs": [
    {
     "data": {
      "text/html": [
       "<style>\n",
       "table {float:left}\n",
       "</style>\n"
      ],
      "text/plain": [
       "<IPython.core.display.HTML object>"
      ]
     },
     "metadata": {},
     "output_type": "display_data"
    }
   ],
   "source": [
    "%%html\n",
    "<style>\n",
    "table {float:left}\n",
    "</style>"
   ]
  },
  {
   "cell_type": "markdown",
   "metadata": {},
   "source": [
    "| Maximum length | Number of sequences | File name         |\n",
    "|----------------|---------------------|-------------------|\n",
    "| 15             | 53,398              | Uniprot_0_15.csv  |\n",
    "| 20             | 113,571             | Uniprot_0_20.csv  |\n",
    "| 25             | 225,244             | Uniprot_0_25.csv  |\n",
    "| 30             | 421,825             | Uniprot_0_30.csv  |\n",
    "| 50             | 2,380,719           | Uniprot_0_50.csv  |\n",
    "| 100            | 16,331,209          | Uniprot_0_100.csv |\n",
    "| 200            | 49,852,155          | Uniprot_0_200.csv |"
   ]
  },
  {
   "cell_type": "markdown",
   "metadata": {},
   "source": [
    "## 1.5. Splitting into test, train and validation subsets\n",
    "\n",
    "For the model training purposes, each data set was divided into three subsets: train, test, and validation with 80%, 10%, 10% split. "
   ]
  },
  {
   "cell_type": "code",
   "execution_count": 5,
   "metadata": {},
   "outputs": [],
   "source": [
    "for max_len in [[15, 20, 25, 30, 50, 100]]:    \n",
    "    amp_csv.CSVSplitter(\n",
    "        input_file=f'../data/interim/Uniprot_{MIN_LENGTH}_{max_len}.csv',\n",
    "        output_to='../data/processed',\n",
    "        min_length=MIN_LENGTH,\n",
    "        max_length=max_len,\n",
    "        test_size=0.1,\n",
    "        val_size=0.1,\n",
    "    ).split()"
   ]
  },
  {
   "cell_type": "markdown",
   "metadata": {},
   "source": [
    "# 2. Unlabelled positive dataset"
   ]
  },
  {
   "cell_type": "markdown",
   "metadata": {},
   "source": [
    "## 2.1. Merging available datasets\n",
    "\n",
    "The AMP unlabelled dataset contains the sequences from:\n",
    "- dbAMP (Jhong et al. (2019))\n",
    "- AMP Scanner (Veltri et al. (2019))\n",
    "- DRAMP database (Kang et al. (2019))\n"
   ]
  },
  {
   "cell_type": "code",
   "execution_count": 9,
   "metadata": {},
   "outputs": [],
   "source": [
    "\n",
    "import urllib.request\n",
    "url = 'https://www.dveltri.com/ascan/v2/data/AMP_Scan2_Feb2020_Dataset.zip'\n",
    "urllib.request.urlretrieve(url, 'AMP_Scan2_Feb2020_Dataset.zip')\n",
    "import zipfile\n",
    "with zipfile.ZipFile('AMP_Scan2_Feb2020_Dataset.zip', 'r') as zip_ref:\n",
    "    zip_ref.extractall('AMP_Scan2_Feb2020_Dataset/')"
   ]
  },
  {
   "cell_type": "code",
   "execution_count": 10,
   "metadata": {},
   "outputs": [],
   "source": [
    "urllib.request.urlretrieve('http://140.138.77.240/~dbamp/download/dbAMPv1.4.tar.gz', 'dbAMPv1.4.tar.gz')\n",
    "import tarfile\n",
    "tar = tarfile.open('dbAMPv1.4.tar.gz', \"r:gz\")\n",
    "tar.extractall()\n",
    "tar.close()\n"
   ]
  },
  {
   "cell_type": "code",
   "execution_count": null,
   "metadata": {},
   "outputs": [],
   "source": [
    "urllib.request.urlretrieve('https://s3-eu-west-1.amazonaws.com/pstorage-npg-968563215/15926912/DRAMP_general_amps.xlsx','DRAMP_general_amps.xlsx')\n",
    "urllib.request.urlretrieve('https://s3-eu-west-1.amazonaws.com/pstorage-npg-968563215/15926900/DRAMP_patent_amps.xlsx','DRAMP_patent_amps.xlsx')\n",
    "urllib.request.urlretrieve('https://s3-eu-west-1.amazonaws.com/pstorage-npg-968563215/15926906/DRAMP_clinical_amps.xlsx', 'DRAMP_clinical_amps.xlsx')\n"
   ]
  },
  {
   "cell_type": "code",
   "execution_count": 6,
   "metadata": {
    "scrolled": true
   },
   "outputs": [],
   "source": [
    "!cat data/external/*.fasta > data/interim/unlabelled_positive.fasta"
   ]
  },
  {
   "cell_type": "markdown",
   "metadata": {},
   "source": [
    "## 2.2. Converting to csv\n",
    "\n",
    "Additionally check if the sequences consist only of standard amino acids."
   ]
  },
  {
   "cell_type": "code",
   "execution_count": 3,
   "metadata": {},
   "outputs": [],
   "source": [
    "fasta.fasta2csv(\n",
    "    fasta_input='../data/interim//unlabelled_positive.fasta',\n",
    "    csv_output='../data/interim/unlabelled_positive.csv'\n",
    ")"
   ]
  },
  {
   "cell_type": "markdown",
   "metadata": {},
   "source": [
    "## 2.3. Removing duplicates"
   ]
  },
  {
   "cell_type": "code",
   "execution_count": 4,
   "metadata": {},
   "outputs": [],
   "source": [
    "! awk -F, '!x[$2]++' ../data/interim/unlabelled_positive.csv > ../data/processed/unlabelled_positive.csv"
   ]
  },
  {
   "cell_type": "markdown",
   "metadata": {},
   "source": [
    "## 2.4. Summary\n",
    "\n",
    "The final length of the positive dataset is **20,313 sequences.**\n",
    "\n"
   ]
  },
  {
   "cell_type": "code",
   "execution_count": 3,
   "metadata": {},
   "outputs": [
    {
     "data": {
      "image/png": "[encoded data removed]",
      "text/plain": [
       "<Figure size 432x288 with 1 Axes>"
      ]
     },
     "metadata": {},
     "output_type": "display_data"
    }
   ],
   "source": [
    "positive = pd.read_csv('../data/processed/unlabelled_positive.csv')\n",
    "positive_seq = positive['Sequence'].tolist()\n",
    "positive_lengths = [len(seq) for seq in positive_seq]\n",
    "\n",
    "sns.distplot(positive_lengths)\n",
    "plt.show()"
   ]
  },
  {
   "cell_type": "markdown",
   "metadata": {},
   "source": [
    "# 3. Unlabelled negative dataset"
   ]
  },
  {
   "cell_type": "markdown",
   "metadata": {},
   "source": [
    "## 3.1. Manual UniProt search with filters:\n",
    "  - exclude entries that match the following keywords: antimicrobial, antibiotic, antiviral, antifungal, effector or excreted. \n",
    "  - sequences of length between 8 and 200 amino acids\n",
    "  - required subcellular location: cytoplasm \n",
    "\n",
    "Resulting file with **1,757,637** sequences was saved as *data/raw/Uniprot_0_200_negative.fasta*"
   ]
  },
  {
   "cell_type": "markdown",
   "metadata": {},
   "source": [
    "## 3.2. CD-HIT - remove sequences sharing ≥40% sequence identity.\n",
    "\n",
    "Resulting file was saved as *data/interim/uniprot_negatives_cdhit_40.fasta*"
   ]
  },
  {
   "cell_type": "code",
   "execution_count": null,
   "metadata": {},
   "outputs": [],
   "source": [
    "! cdhit -i ../data/raw/Uniprot_0_200_negative.fasta -o ../data/interim/uniprot_negatives_cdhit_40.fasta -c 0.4 -T 4 -n 2 -M 2000\n"
   ]
  },
  {
   "cell_type": "markdown",
   "metadata": {},
   "source": [
    "## 3.3. Converting to csv:\n",
    "\n",
    "Additionally check if the sequences consist only of standard amino acids."
   ]
  },
  {
   "cell_type": "code",
   "execution_count": 3,
   "metadata": {},
   "outputs": [],
   "source": [
    "fasta.fasta2csv(\n",
    "    fasta_input='../data/interim/uniprot_negatives_cdhit_40.fasta',\n",
    "    csv_output='../data/processed/unlabelled_negative.csv'\n",
    ")"
   ]
  },
  {
   "cell_type": "markdown",
   "metadata": {},
   "source": [
    "## 3.4. Summary\n",
    "\n",
    "The final length of the negative dataset is **145,846 sequences.**\n"
   ]
  },
  {
   "cell_type": "code",
   "execution_count": 8,
   "metadata": {},
   "outputs": [
    {
     "data": {
      "image/png": "[encoded data removed]",
      "text/plain": [
       "<Figure size 432x288 with 1 Axes>"
      ]
     },
     "metadata": {},
     "output_type": "display_data"
    }
   ],
   "source": [
    "negative = pd.read_csv('../data/processed/unlabelled_negative.csv')\n",
    "negative_seq = negative['Sequence'].tolist()\n",
    "negative_lengths = [len(seq) for seq in negative_seq]\n",
    "\n",
    "sns.distplot(negative_lengths)\n",
    "plt.show()"
   ]
  },
  {
   "cell_type": "code",
   "execution_count": 9,
   "metadata": {},
   "outputs": [
    {
     "data": {
      "text/plain": [
       "0"
      ]
     },
     "execution_count": 9,
     "metadata": {},
     "output_type": "execute_result"
    }
   ],
   "source": [
    "positive_lengths = [seq for seq in negative_seq if len(seq) < 26]\n",
    "len(positive_lengths)"
   ]
  },
  {
   "cell_type": "markdown",
   "metadata": {},
   "source": [
    "# 4. Peptides with experimentally proven antimicrobial activity with measured MIC values."
   ]
  },
  {
   "cell_type": "markdown",
   "metadata": {},
   "source": [
    "This pipeline is based on Zack Witten AMP repository. \n",
    "\n",
    "The dataset used was scraped by Witten and Witten in 2019 from following databases: APD, DADP, DBAASP, DRAMP, and YADAMP."
   ]
  },
  {
   "cell_type": "code",
   "execution_count": 10,
   "metadata": {},
   "outputs": [],
   "source": [
    "witten = 'https://github.com/zswitten/Antimicrobial-Peptides/blob/master/data/grampa.csv?raw=true'\n",
    "data = pd.read_csv(witten)\n",
    "# Remove unit column and Unnamed: 0 as they don't provide any information \n",
    "data = data.drop(columns=['unit', 'Unnamed: 0'])"
   ]
  },
  {
   "cell_type": "markdown",
   "metadata": {},
   "source": [
    "All sequences with modification other than C-terminal amidation and disulfide bonds, which are fairly common among AMPs, should be removed. The effect of other modifications on the peptide activity could be a subject of another work. \n",
    "All sequences from YADAMP database must be removed for having no modification data unless that sequence is in another database.\n"
   ]
  },
  {
   "cell_type": "code",
   "execution_count": 16,
   "metadata": {},
   "outputs": [
    {
     "name": "stdout",
     "output_type": "stream",
     "text": [
      "Dataframe length before excluding modifications: 44999\n",
      "Dataframe length after excluding unusual and unverified modifications: 44999\n"
     ]
    }
   ],
   "source": [
    "print(\"Dataframe length before excluding modifications:\", len(data))\n",
    "data = data.loc[data.has_unusual_modification == False]\n",
    "data['_datasource_has_modifications'] = data.database != 'YADAMP'\n",
    "sequences_containing_modifications = set(data.loc[data.database != 'YADAMP', 'sequence'])\n",
    "data['_sequence_has_modifications'] = data['sequence'].isin(sequences_containing_modifications)\n",
    "data['modification_verified'] = data['_sequence_has_modifications'] | data['_datasource_has_modifications']\n",
    "data = data.loc[data.modification_verified == True]\n",
    "print(\"Dataframe length after excluding unusual and unverified modifications:\", len(data))"
   ]
  },
  {
   "cell_type": "markdown",
   "metadata": {},
   "source": [
    "As mentioned in Vishnepolsky et al. (2018), it has been reported that the same peptide can have different MIC values for different bacterium species, or even the different strains of the same species. Therefore it is absolutely necessary to narrow down the dataset. According to Witten and Witten it is possible to group the peptides according to the gram type into gram-negative and gram-positive antibiotic activity.\n",
    "\n",
    "The number of available measurements for specific species is the greatest for E. coli (gram-negative) and S. aureus (gram-positive). We could treat those two species as the representants of the two gram types. The plots in Witten paper suggest that an AMP designed for effectiveness against E. coli would also likely be effective against other gram-negative pathogens.\n",
    "\n",
    "To begin, we will select only those peptides which have MIC values measured against E. coli strains. Of 8049 entries only 4546 of them are unique sequences. As we need a single measurement for each peptide, all the measurements for a given peptide are being averaged."
   ]
  },
  {
   "cell_type": "code",
   "execution_count": 20,
   "metadata": {},
   "outputs": [
    {
     "name": "stdout",
     "output_type": "stream",
     "text": [
      "Number of entries: 8049, number of unique sequences: 4546\n",
      "Dataframe length for E.coli bacteria: 4546\n"
     ]
    }
   ],
   "source": [
    "data.groupby(\"bacterium\").size().sort_values(0, ascending=False)\n",
    "ecoli_df = data[data.bacterium == \"E. coli\"]\n",
    "print(f'Number of entries: {len(ecoli_df)}, number of unique sequences: {ecoli_df.sequence.nunique()}')\n",
    "ecoli_df = ecoli_df.groupby(\"sequence\").mean().reset_index().dropna()\n",
    "ecoli_df = ecoli_df[[\"sequence\", \"value\"]]\n",
    "print(\"Dataframe length for E.coli bacteria:\", len(ecoli_df))\n"
   ]
  },
  {
   "cell_type": "code",
   "execution_count": 21,
   "metadata": {},
   "outputs": [],
   "source": [
    "ecoli_df.to_csv('../data/processed/mic_data.csv')"
   ]
  }
 ],
 "metadata": {
  "kernelspec": {
   "display_name": "Python 3",
   "language": "python",
   "name": "python3"
  },
  "language_info": {
   "codemirror_mode": {
    "name": "ipython",
    "version": 3
   },
   "file_extension": ".py",
   "mimetype": "text/x-python",
   "name": "python",
   "nbconvert_exporter": "python",
   "pygments_lexer": "ipython3",
   "version": "3.8.0"
  }
 },
 "nbformat": 4,
 "nbformat_minor": 2
}
